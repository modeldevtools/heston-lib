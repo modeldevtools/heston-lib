{
 "cells": [
  {
   "cell_type": "code",
   "execution_count": 1,
   "metadata": {
    "collapsed": true
   },
   "outputs": [],
   "source": [
    "import numpy as np\n",
    "import pandas as pd\n",
    "import matplotlib.pyplot as plt\n",
    "from mpl_toolkits.mplot3d import Axes3D\n",
    "from matplotlib import cm\n",
    "%matplotlib inline\n",
    "\n",
    "from heston import UnivariateHestonSV, MultivariateHestonSV\n",
    "from heston import make_surface, bs_call_px, structure_constructor"
   ]
  },
  {
   "cell_type": "markdown",
   "metadata": {},
   "source": [
    "## Market Implied Surface"
   ]
  },
  {
   "cell_type": "code",
   "execution_count": 2,
   "metadata": {
    "collapsed": true
   },
   "outputs": [],
   "source": [
    "data = pd.read_excel('data/equities.xlsx', index_col=0)\n",
    "assets = data.corp.unique()\n",
    "data.head()\n",
    "\n",
    "assets = data.corp.unique()\n",
    "mv_hes_mkt_implied = MultivariateHestonSV(assets)\n",
    "mv_hes_mkt_implied.set_params(\n",
    "    {\n",
    "        # parameters list: ['kappa', 'v0', 'theta', 'eta', 'rho_sv']\n",
    "        assets[0]: [12.22153077,  0.19999999,  0.10679624,  1.11942453, -0.79999979],\n",
    "        assets[1]: [ 0.69115605,  0.11214887,  0.4196924 ,  0.19383575, -0.79890507],\n",
    "        assets[2]: [ 2.0236936 ,  0.14899818,  0.30447942,  0.4452153 , -0.79999991],\n",
    "        # risk free rate\n",
    "        'r': 0.045,\n",
    "        # stock covariance matrix\n",
    "        'cov_s': np.array([\n",
    "            [1, 0.3, 0.3],\n",
    "            [0.3, 1, 0.3],\n",
    "            [0.3, 0.3, 1]\n",
    "        ])\n",
    "    }\n",
    ")"
   ]
  },
  {
   "cell_type": "markdown",
   "metadata": {},
   "source": [
    "## Perturbed Surface - Precalibrated"
   ]
  },
  {
   "cell_type": "code",
   "execution_count": 75,
   "metadata": {
    "collapsed": true
   },
   "outputs": [],
   "source": [
    "assets = data.corp.unique()\n",
    "mv_hes_perturbed = MultivariateHestonSV(assets)\n",
    "mv_hes_perturbed.set_params(\n",
    "    {\n",
    "        # parameters list: ['kappa', 'v0', 'theta', 'eta', 'rho_sv']\n",
    "        assets[0]: [6.06447103,  0.15058895,  0.10798075,  0.64123972, -0.79929272],\n",
    "        assets[1]: [ 0.70732155,  0.111646,    0.41990275,  0.20931289, -0.79999965],\n",
    "        assets[2]: [ 1.88121426,  0.15271228,  0.30905064,  0.44772211, -0.79991312],\n",
    "        # risk free rate\n",
    "        'r': 0.045,\n",
    "        # stock covariance matrix\n",
    "        'cov_s': np.array([\n",
    "            [1, 0.3, 0.3],\n",
    "            [0.3, 1, 0.3],\n",
    "            [0.3, 0.3, 1]\n",
    "        ])\n",
    "    }\n",
    ")"
   ]
  },
  {
   "cell_type": "markdown",
   "metadata": {},
   "source": [
    "## Use this Cell to Recalibrate everything again (Kinda Slow)"
   ]
  },
  {
   "cell_type": "code",
   "execution_count": 71,
   "metadata": {},
   "outputs": [
    {
     "name": "stderr",
     "output_type": "stream",
     "text": [
      "100% (3 of 3) |###########################| Elapsed Time: 0:00:01 Time: 0:00:01\n"
     ]
    }
   ],
   "source": [
    "perturbed_data = mv_hes.make_perturbed_surface_knots(\n",
    "    np.array([34, 15, 25]), \n",
    "    knots = [\n",
    "        (np.linspace(34-5*2, 34+5*2, 5), np.linspace(2-0.5*3, 2+0.5*1, 5)),\n",
    "        (np.linspace(15-5*2, 15+5*2, 5), np.linspace(2-0.5*3, 2+0.5*1, 5)),\n",
    "        (np.linspace(25-5*2, 25+5*2, 5), np.linspace(2-0.5*3, 2+0.5*1, 5))],\n",
    "    bump_points = [(34,2), (15,2), (25,2)],\n",
    "    rotations = [\n",
    "        {(44, 2): -0.005, (24, 2): 0.005},\n",
    "        {(25, 2): -0.005, (5, 2): 0.005},\n",
    "        {(35, 2): -0.005, (15, 2): 0.005}\n",
    "    ]\n",
    ")"
   ]
  },
  {
   "cell_type": "code",
   "execution_count": 73,
   "metadata": {},
   "outputs": [
    {
     "name": "stdout",
     "output_type": "stream",
     "text": [
      "   Iteration     Total nfev        Cost      Cost reduction    Step norm     Optimality   \n",
      "       0              1         1.9985e+01                                    9.76e+01    \n",
      "       1              2         3.6949e+00      1.63e+01       4.88e-01       9.90e+00    \n",
      "       2              3         7.9762e-01      2.90e+00       4.59e-01       4.87e+00    \n",
      "       3              4         3.8941e-01      4.08e-01       3.11e-01       2.17e+00    \n",
      "       4              5         1.7022e-01      2.19e-01       5.60e-01       4.72e+00    \n",
      "       5              6         8.5332e-02      8.49e-02       2.02e-01       1.15e+00    \n",
      "       6              7         6.4418e-02      2.09e-02       2.15e-01       4.63e+00    \n",
      "       7              9         5.0394e-02      1.40e-02       2.58e-01       1.93e+00    \n",
      "       8             10         4.3427e-02      6.97e-03       6.87e-01       8.05e+00    \n",
      "       9             11         2.8069e-02      1.54e-02       9.40e-01       5.80e+00    \n",
      "      10             12         2.1922e-02      6.15e-03       7.95e-01       2.67e+00    \n",
      "      11             13         2.1293e-02      6.30e-04       4.19e-04       1.43e-01    \n",
      "      12             14         2.0418e-02      8.74e-04       3.22e-01       1.53e-01    \n",
      "      13             15         1.9207e-02      1.21e-03       1.46e+00       9.70e-01    \n",
      "      14             16         1.9134e-02      7.24e-05       1.33e-04       5.74e-03    \n",
      "      15             17         1.8960e-02      1.74e-04       7.94e-01       2.56e-01    \n",
      "      16             18         1.8944e-02      1.65e-05       1.75e-01       2.49e-02    \n",
      "`ftol` termination condition is satisfied.\n",
      "Function evaluations 18, initial cost 1.9985e+01, final cost 1.8944e-02, first-order optimality 2.49e-02.\n",
      "   Iteration     Total nfev        Cost      Cost reduction    Step norm     Optimality   \n",
      "       0              1         2.1419e+00                                    6.79e+02    \n",
      "       1              2         1.8413e-01      1.96e+00       5.79e-01       1.01e+02    \n",
      "       2              3         2.3281e-02      1.61e-01       3.30e-01       1.34e+01    \n",
      "       3              4         1.3181e-02      1.01e-02       1.14e-01       3.30e-02    \n",
      "       4              5         1.2242e-02      9.39e-04       8.24e-01       1.14e+01    \n",
      "       5              6         5.4596e-03      6.78e-03       1.53e-01       1.24e+01    \n",
      "       6              7         3.9261e-03      1.53e-03       7.55e-02       3.23e+00    \n",
      "       7              8         3.6895e-03      2.37e-04       1.24e-01       6.25e+00    \n",
      "       8              9         3.3826e-03      3.07e-04       5.44e-02       7.30e-02    \n",
      "       9             10         3.3005e-03      8.21e-05       8.92e-02       9.25e-01    \n",
      "      10             11         3.2839e-03      1.66e-05       2.75e-03       7.15e-03    \n",
      "      11             12         3.2831e-03      7.70e-07       1.33e-03       5.31e-04    \n",
      "`ftol` termination condition is satisfied.\n",
      "Function evaluations 12, initial cost 2.1419e+00, final cost 3.2831e-03, first-order optimality 5.31e-04.\n",
      "   Iteration     Total nfev        Cost      Cost reduction    Step norm     Optimality   \n",
      "       0              1         1.0156e+01                                    2.61e+03    \n",
      "       1              2         1.7181e+00      8.44e+00       7.01e-01       4.61e+02    \n",
      "       2              3         5.1668e-01      1.20e+00       8.87e-01       1.25e+02    \n",
      "       3              4         1.1770e-01      3.99e-01       1.03e+00       3.11e+01    \n",
      "       4              5         2.6420e-02      9.13e-02       6.46e-01       4.36e+00    \n",
      "       5              6         1.9041e-02      7.38e-03       2.25e-01       1.39e-02    \n",
      "       6              8         1.6556e-02      2.48e-03       4.32e-01       1.69e-01    \n",
      "       7              9         1.4729e-02      1.83e-03       8.24e-01       5.23e+00    \n",
      "       8             10         1.2018e-02      2.71e-03       3.00e-01       1.81e+00    \n",
      "       9             11         1.0954e-02      1.06e-03       2.89e-01       3.90e-01    \n",
      "      10             13         1.0583e-02      3.72e-04       1.88e-01       5.15e-01    \n",
      "      11             14         1.0313e-02      2.69e-04       1.08e-01       1.29e-01    \n",
      "      12             15         1.0214e-02      9.89e-05       2.83e-02       3.05e-03    \n",
      "      13             16         1.0092e-02      1.22e-04       6.57e-02       7.42e-02    \n",
      "      14             17         1.0070e-02      2.20e-05       3.59e-03       9.97e-05    \n",
      "      15             18         1.0044e-02      2.59e-05       1.36e-02       4.23e-03    \n",
      "      16             19         1.0043e-02      1.08e-06       6.48e-04       2.58e-05    \n",
      "`ftol` termination condition is satisfied.\n",
      "Function evaluations 19, initial cost 1.0156e+01, final cost 1.0043e-02, first-order optimality 2.58e-05.\n"
     ]
    }
   ],
   "source": [
    "mv_perturb = MultivariateHestonSV(data.corp.unique())\n",
    "fit_perturb = mv_perturb.calibrate(\n",
    "    perturbed_data, px=[34,15,25], r=[0.045]*3,\n",
    "    cov_s=np.array([\n",
    "        [1, 0.3, 0.3],\n",
    "        [0.3, 1, 0.3],\n",
    "        [0.3, 0.3, 1]\n",
    "    ])\n",
    ")"
   ]
  },
  {
   "cell_type": "markdown",
   "metadata": {},
   "source": [
    "## Do valuations using same dW drivers"
   ]
  },
  {
   "cell_type": "code",
   "execution_count": 4,
   "metadata": {},
   "outputs": [],
   "source": [
    "s_0 = np.array([34, 15, 25]) # time-0 stock price\n",
    "# use pre-computed paths to speed things up\n",
    "n_paths = 5000\n",
    "n_nodes = 252*2\n",
    "n_assets = 3\n",
    "\n",
    "drivers = np.random.multivariate_normal(np.array(\n",
    "    [0] * (2 * n_assets)), mv_hes_mkt_implied.cov, (n_nodes, n_paths))\n",
    "\n",
    "#paths_perturbed = mv_hes_perturbed.simulate_paths_cfb_given_dW(\n",
    "#    n_paths=n_paths, n_nodes=n_nodes, T=2, dS=1e-4, S0=s_0, dWs=drivers)"
   ]
  },
  {
   "cell_type": "code",
   "execution_count": 5,
   "metadata": {},
   "outputs": [
    {
     "name": "stderr",
     "output_type": "stream",
     "text": [
      "100% (5000 of 5000) |#####################| Elapsed Time: 0:07:31 Time: 0:07:31\n"
     ]
    }
   ],
   "source": [
    "# market implied path, using same drivers\n",
    "paths_mkt_implied = mv_hes_mkt_implied.simulate_paths_cfb_given_dW(\n",
    "    n_paths=n_paths, n_nodes=n_nodes, T=2, dS=1e-4, S0=s_0, dWs=drivers)"
   ]
  },
  {
   "cell_type": "code",
   "execution_count": 8,
   "metadata": {
    "collapsed": true
   },
   "outputs": [],
   "source": [
    "import pickle\n",
    "s_0 = np.array([34, 15, 25]) # time-0 stock price\n",
    "# use pre-computed paths to speed things up\n",
    "n_paths = 5000\n",
    "n_nodes = 252*2\n",
    "n_assets = 3\n",
    "paths_mkt_implied = pickle.load(open('paths.p', 'rb'))"
   ]
  },
  {
   "cell_type": "code",
   "execution_count": 6,
   "metadata": {
    "collapsed": true
   },
   "outputs": [],
   "source": [
    "from heston import structure_constructor_best_KI\n",
    "def portfolio(model, paths, K, D, x, R, p):\n",
    "    loss, structure, pct_adv, cap, deltas, slip = structure_constructor_best_KI(\n",
    "        model=model, x=x, put_Ks=K, Ds=D, R_req=R, adv=adv, \n",
    "        adv_thres=0.3, S0=s_0, cap_required=100, alpha=0.1, pre_computed_paths=paths, \n",
    "        premiums=p)\n",
    "    delta_collar, delta_boc, delta_KI = deltas\n",
    "    delta_tot = delta_collar-delta_boc+delta_KI\n",
    "    # print(structure)\n",
    "    print('Put Strikes:', K)\n",
    "    print('Shares:', x)\n",
    "    print('Loss:', loss)\n",
    "    print('|X/ADV|:', np.abs(pct_adv))\n",
    "    print('Price Slippage', slip)\n",
    "    print('Pct Price Slippage (BPs)', (slip/s_0)*1e4)\n",
    "    print('Dollar Slippage', slip.dot(delta_tot.reshape(3,))[0])\n",
    "    print('Dollar Premium', -p[0].dot(x)+p[1])\n",
    "    print('Locked-in Capital:', cap)\n",
    "    print('Deltas/Sell x Collar:', delta_collar)\n",
    "    print('Deltas/Sell 1 Best of Call:', -delta_boc)\n",
    "    print('Deltas/Buy 1 KI:', delta_KI)\n",
    "    print('Deltas/Entire Structure:', delta_tot)\n",
    "    return structure"
   ]
  },
  {
   "cell_type": "markdown",
   "metadata": {},
   "source": [
    "## Valuation under Perturbed Surface $\\mathcal{M}_1$"
   ]
  },
  {
   "cell_type": "code",
   "execution_count": 31,
   "metadata": {},
   "outputs": [
    {
     "name": "stdout",
     "output_type": "stream",
     "text": [
      "Put Strikes: [31.  11.  21.5]\n",
      "Shares: [-0.3  -6.   -1.73]\n",
      "Loss: 0.48760602139802034\n",
      "|X/ADV|: [[0.56010849 0.58465124 0.5984575 ]]\n",
      "Price Slippage [[1.16322152 0.40200968 0.79079333]]\n",
      "Pct Price Slippage (BPs) [[342.12397513 268.00645122 316.31733191]]\n",
      "Dollar Slippage 0.6643051621890395\n",
      "Dollar Premium 2.1107500000000003\n",
      "Locked-in Capital: 102.81268868708682\n",
      "Deltas/Sell x Collar: [[0.1857513  1.78956496 1.02472213]]\n",
      "Deltas/Sell 1 Best of Call: [[-0.05799156 -0.8231643  -0.46938854]]\n",
      "Deltas/Buy 1 KI: [[-0.0062162  -0.60976341 -0.07537068]]\n",
      "Deltas/Entire Structure: [[0.12154354 0.35663725 0.47996291]]\n",
      "----------------------------------------------\n",
      "Zero Cost Collar:\n",
      "+ MultiAssetsAsianPut: K=[31.000, 11.000, 21.500], T=2\n",
      "- MultiAssetsAsianCall: K=[40.006, 22.564, 32.296], T=2\n",
      "MultiAssetsBestOfAsianCall: K=[40.006, 22.564, 32.296], R_required=0.05, T_entry=1, T_mature=2\n",
      "MultiAssetsBestOfDiscreteKIEuropeanPut: K=[31.370, 21.022, 25.393], H=[29.370, 19.022, 22.393], T_entry=1, T_mature=2\n"
     ]
    }
   ],
   "source": [
    "adv = data.adv.unique() / 1e6\n",
    "Kput = np.array([31.0, 11.0, 21.5])\n",
    "D = np.array([2, 2, 3])\n",
    "x = np.array([-0.3, -6, -1.73])\n",
    "R = 0.05\n",
    "shadow_barrier = np.abs(np.sum(D*x)*0.025)\n",
    "cost = (np.array([0.2, 0.1, 0.2]), shadow_barrier+0.66)\n",
    "\n",
    "\n",
    "structure = portfolio(mv_hes_mkt_implied, paths_mkt_implied, Kput, D, x, R, cost)\n",
    "print('----------------------------------------------')\n",
    "for name, obj in structure.items():\n",
    "    print(repr(obj))"
   ]
  },
  {
   "cell_type": "markdown",
   "metadata": {},
   "source": [
    "## Initial terms"
   ]
  },
  {
   "cell_type": "code",
   "execution_count": 50,
   "metadata": {},
   "outputs": [
    {
     "name": "stdout",
     "output_type": "stream",
     "text": [
      "Put Strikes: [31.5  10.05 22.  ]\n",
      "Shares: [-0.4  -5.7  -1.83]\n",
      "Loss: 0.5774909544848019\n",
      "|X/ADV|: [[0.79208544 0.09008287 0.60223785]]\n",
      "Price Slippage [[1.59994636 0.         0.79578578]]\n",
      "Pct Price Slippage (BPs) [[470.57245867   0.         318.31431257]]\n",
      "Dollar Slippage 0.6593632055363324\n",
      "Dollar Premium 3.03085\n",
      "Locked-in Capital: 100.66495040169944\n",
      "Deltas/Sell x Collar: [[0.26236588 1.19368262 1.14732489]]\n",
      "Deltas/Sell 1 Best of Call: [[-0.07994614 -0.6164738  -0.51446751]]\n",
      "Deltas/Buy 1 KI: [[-0.01053719 -0.52225828 -0.14986263]]\n",
      "Deltas/Entire Structure: [[0.17188254 0.05495055 0.48299476]]\n",
      "----------------------------------------------\n",
      "Zero Cost Collar:\n",
      "+ MultiAssetsAsianPut: K=[31.500, 10.050, 22.000], T=2\n",
      "- MultiAssetsAsianCall: K=[39.455, 24.224, 31.569], T=2\n",
      "MultiAssetsBestOfAsianCall: K=[39.455, 24.224, 31.569], R_required=0.05, T_entry=1, T_mature=2\n",
      "MultiAssetsBestOfDiscreteKIEuropeanPut: K=[32.764, 21.116, 31.322], H=[30.764, 16.116, 29.522], T_entry=1, T_mature=2\n"
     ]
    }
   ],
   "source": [
    "adv = data.adv.unique() / 1e6\n",
    "Kput = np.array([31.5, 10.05, 22])\n",
    "D = np.array([2, 5, 1.8])\n",
    "x = np.array([-0.4, -5.7, -1.83])\n",
    "R = 0.05\n",
    "shadow_barrier = np.abs(np.sum(D*x)*0.025)\n",
    "cost = (np.array([0.2, 0.1, 0.2]), shadow_barrier+1.2)\n",
    "\n",
    "\n",
    "structure = portfolio(mv_hes_mkt_implied, paths_mkt_implied, Kput, D, x, R, cost)\n",
    "print('----------------------------------------------')\n",
    "for name, obj in structure.items():\n",
    "    print(repr(obj))"
   ]
  },
  {
   "cell_type": "code",
   "execution_count": 59,
   "metadata": {},
   "outputs": [
    {
     "data": {
      "text/plain": [
       "array([-0.4 , -5.7 , -1.83])"
      ]
     },
     "execution_count": 59,
     "metadata": {},
     "output_type": "execute_result"
    }
   ],
   "source": [
    "x"
   ]
  },
  {
   "cell_type": "code",
   "execution_count": 63,
   "metadata": {},
   "outputs": [
    {
     "data": {
      "text/plain": [
       "array([34, 15, 25])"
      ]
     },
     "execution_count": 63,
     "metadata": {},
     "output_type": "execute_result"
    }
   ],
   "source": [
    "s_0"
   ]
  },
  {
   "cell_type": "code",
   "execution_count": 64,
   "metadata": {},
   "outputs": [
    {
     "data": {
      "text/plain": [
       "array([24., 29., 34., 39., 44.])"
      ]
     },
     "execution_count": 64,
     "metadata": {},
     "output_type": "execute_result"
    }
   ],
   "source": [
    "np.linspace(34-5*2, 34+5*2, 5)"
   ]
  },
  {
   "cell_type": "code",
   "execution_count": 66,
   "metadata": {},
   "outputs": [
    {
     "data": {
      "text/plain": [
       "28"
      ]
     },
     "execution_count": 66,
     "metadata": {},
     "output_type": "execute_result"
    }
   ],
   "source": [
    "34-6"
   ]
  },
  {
   "cell_type": "code",
   "execution_count": 174,
   "metadata": {},
   "outputs": [
    {
     "data": {
      "text/plain": [
       "(0.020395478109946907, 0.029992364817310598)"
      ]
     },
     "execution_count": 174,
     "metadata": {},
     "output_type": "execute_result"
    }
   ],
   "source": [
    "-0.1*p1.delta(s_0[0]),-0.57*p2.delta(s_0[1])"
   ]
  },
  {
   "cell_type": "code",
   "execution_count": 185,
   "metadata": {},
   "outputs": [
    {
     "data": {
      "text/plain": [
       "array([28.9  , 31.875, 34.85 , 37.825, 40.8  , 34.   ])"
      ]
     },
     "execution_count": 185,
     "metadata": {},
     "output_type": "execute_result"
    }
   ],
   "source": [
    "np.append(np.linspace(34*0.85, 34*1.2, 5), 34)"
   ]
  },
  {
   "cell_type": "code",
   "execution_count": 189,
   "metadata": {},
   "outputs": [
    {
     "name": "stderr",
     "output_type": "stream",
     "text": [
      "100% (1000 of 1000) |#####################| Elapsed Time: 0:00:08 Time: 0:00:08\n",
      "  1% (13 of 1000) |                       | Elapsed Time: 0:00:00 ETA:  0:00:07"
     ]
    },
    {
     "name": "stdout",
     "output_type": "stream",
     "text": [
      "[-0.67693168 -0.23515313 -0.64246769]\n",
      "[[0.04138197 0.74372685 0.48717849]]\n",
      "[[-0.02150349 -0.42035887 -0.14322196]]\n",
      "[[0.20788721 0.17628714 0.54531543]] [-0.67693168 -0.23515313 -0.64246769]\n",
      "[[0.25631044 0.20627951 0.55415304]]\n"
     ]
    },
    {
     "name": "stderr",
     "output_type": "stream",
     "text": [
      "100% (1000 of 1000) |#####################| Elapsed Time: 0:00:07 Time: 0:00:07\n",
      "  1% (13 of 1000) |                       | Elapsed Time: 0:00:00 ETA:  0:00:07"
     ]
    },
    {
     "name": "stdout",
     "output_type": "stream",
     "text": [
      "[-0.63555576 -0.23515313 -0.64246769]\n",
      "[[0.06765344 0.74372685 0.48717849]]\n",
      "[[-0.01464662 -0.42035887 -0.14322196]]\n",
      "[[0.17192224 0.17628714 0.54531543]] [-0.63555576 -0.23515313 -0.64246769]\n",
      "[[0.2037851  0.20627951 0.55415304]]\n"
     ]
    },
    {
     "name": "stderr",
     "output_type": "stream",
     "text": [
      "100% (1000 of 1000) |#####################| Elapsed Time: 0:00:08 Time: 0:00:08\n",
      "  1% (13 of 1000) |                       | Elapsed Time: 0:00:00 ETA:  0:00:08"
     ]
    },
    {
     "name": "stdout",
     "output_type": "stream",
     "text": [
      "[-0.66464681 -0.23515313 -0.64246769]\n",
      "[[0.08631413 0.74372685 0.48717849]]\n",
      "[[-0.01093255 -0.42035887 -0.14322196]]\n",
      "[[0.16861204 0.17628714 0.54531543]] [-0.66464681 -0.23515313 -0.64246769]\n",
      "[[0.18900752 0.20627951 0.55415304]]\n"
     ]
    },
    {
     "name": "stderr",
     "output_type": "stream",
     "text": [
      "100% (1000 of 1000) |#####################| Elapsed Time: 0:00:09 Time: 0:00:09\n",
      "  1% (10 of 1000) |                       | Elapsed Time: 0:00:00 ETA:  0:00:09"
     ]
    },
    {
     "name": "stdout",
     "output_type": "stream",
     "text": [
      "[-0.71405215 -0.23515313 -0.64246769]\n",
      "[[0.10220509 0.74372685 0.48717849]]\n",
      "[[-0.00696947 -0.42035887 -0.14322196]]\n",
      "[[0.1764463  0.17628714 0.54531543]] [-0.71405215 -0.23515313 -0.64246769]\n",
      "[[0.18940789 0.20627951 0.55415304]]\n"
     ]
    },
    {
     "name": "stderr",
     "output_type": "stream",
     "text": [
      "100% (1000 of 1000) |#####################| Elapsed Time: 0:00:09 Time: 0:00:09\n",
      "  1% (13 of 1000) |                       | Elapsed Time: 0:00:00 ETA:  0:00:07"
     ]
    },
    {
     "name": "stdout",
     "output_type": "stream",
     "text": [
      "[-0.75499579 -0.23515313 -0.64246769]\n",
      "[[0.10902322 0.74372685 0.48717849]]\n",
      "[[-0.00512266 -0.42035887 -0.14322196]]\n",
      "[[0.18785244 0.17628714 0.54531543]] [-0.75499579 -0.23515313 -0.64246769]\n",
      "[[0.19612409 0.20627951 0.55415304]]\n"
     ]
    },
    {
     "name": "stderr",
     "output_type": "stream",
     "text": [
      "100% (1000 of 1000) |#####################| Elapsed Time: 0:00:07 Time: 0:00:07\n"
     ]
    },
    {
     "name": "stdout",
     "output_type": "stream",
     "text": [
      "[-0.66464681 -0.23515313 -0.64246769]\n",
      "[[0.08631413 0.74372685 0.48717849]]\n",
      "[[-0.01093255 -0.42035887 -0.14322196]]\n",
      "[[0.16861204 0.17628714 0.54531543]] [-0.66464681 -0.23515313 -0.64246769]\n",
      "[[0.18900752 0.20627951 0.55415304]]\n"
     ]
    }
   ],
   "source": [
    "deltas = []\n",
    "deltas_after_hedge = []\n",
    "deltas_zc = []\n",
    "deltas_boc = []\n",
    "deltas_ki = []\n",
    "drivers = np.random.multivariate_normal(np.array(\n",
    "        [0] * (2 * n_assets)), mv_hes_mkt_implied.cov, (64, 1000))\n",
    "\n",
    "for s1 in np.append(np.linspace(34*0.85, 34*1.2, 5), 34):\n",
    "    s_0 = np.array([34, 15, 25])\n",
    "    s_0[0] = s1\n",
    "    \n",
    "\n",
    "    paths = mv_hes_mkt_implied.simulate_paths_cfb_given_dW(\n",
    "        n_paths=1000, n_nodes=64, T=2, dS=1e-4, S0=s_0, dWs=drivers)\n",
    "\n",
    "    SSc, SSf, SSb, XXc, XXf, XXb, VV = paths_mkt_implied\n",
    "    paths_c = (SSc, XXc, VV)\n",
    "    \n",
    "    p1 = EuropeanPut(mv_hes_mkt_implied.univariates[assets[0]], 30, 0.5)\n",
    "    p2 = EuropeanPut(mv_hes_mkt_implied.univariates[assets[1]], 10, 0.5)\n",
    "    p3 = EuropeanPut(mv_hes_mkt_implied.univariates[assets[2]], 20, 0.5)\n",
    "    zcollar = structure['Zero Collar']\n",
    "    zcollar.spots = s_0\n",
    "    boc = structure['Best of Call']\n",
    "    boc.S_init = s_0\n",
    "    ki = structure['Best of KI Put']\n",
    "    ki.S_init = s_0\n",
    "\n",
    "    delta_zcollar = zcollar.mc_delta(spots=s_0, pre_computed_paths=paths)\n",
    "    delta_boc = boc.mc_delta(spots=s_0, pre_computed_paths=paths)\n",
    "    delta_KI = ki.mc_delta(spots=s_0, pre_computed_paths=paths)\n",
    "    dp1 = -0.1*p1.delta(s_0[0])\n",
    "    dp2 = -0.57*p2.delta(s_0[1])\n",
    "    dp3 = -(55/1000)*p3.delta(s_0[2])\n",
    "    dd = np.diag(delta_zcollar)*x - delta_boc + delta_KI\n",
    "    dd_after = np.copy(dd)\n",
    "    dd_after[0,0] += dp1\n",
    "    dd_after[0,1]+= dp2\n",
    "    dd_after[0,2] +=dp3\n",
    "    print(np.diag(delta_zcollar))\n",
    "    print(delta_boc)\n",
    "    print(delta_KI)\n",
    "    print(dd, np.diag(delta_zcollar))\n",
    "    print(dd_after)\n",
    "    deltas.append(dd)\n",
    "    deltas_after_hedge.append(dd_after)\n",
    "    deltas_zc.append(delta_zcollar*x[0])\n",
    "    deltas_boc.append(-delta_boc)\n",
    "    deltas_ki.append(delta_KI)\n"
   ]
  },
  {
   "cell_type": "code",
   "execution_count": 199,
   "metadata": {},
   "outputs": [
    {
     "name": "stderr",
     "output_type": "stream",
     "text": [
      "100% (1000 of 1000) |#####################| Elapsed Time: 0:00:08 Time: 0:00:08\n",
      "  1% (12 of 1000) |                       | Elapsed Time: 0:00:00 ETA:  0:00:08"
     ]
    },
    {
     "name": "stdout",
     "output_type": "stream",
     "text": [
      "[-0.67720751 -0.22325579 -0.60561443]\n",
      "[[0.08651953 0.15312757 0.46398067]]\n",
      "[[-0.00922141 -0.90813701 -0.13872367]]\n",
      "[[0.17514206 0.21129343 0.50557005]] [-0.67720751 -0.22325579 -0.60561443]\n",
      "[[0.19553754 0.31543882 0.51440766]]\n"
     ]
    },
    {
     "name": "stderr",
     "output_type": "stream",
     "text": [
      "100% (1000 of 1000) |#####################| Elapsed Time: 0:00:08 Time: 0:00:08\n",
      "  1% (12 of 1000) |                       | Elapsed Time: 0:00:00 ETA:  0:00:08"
     ]
    },
    {
     "name": "stdout",
     "output_type": "stream",
     "text": [
      "[-0.67720751 -0.18531713 -0.60561443]\n",
      "[[0.08651953 0.38565892 0.46398067]]\n",
      "[[-0.00922141 -0.6197016  -0.13872367]]\n",
      "[[0.17514206 0.05094711 0.50557005]] [-0.67720751 -0.18531713 -0.60561443]\n",
      "[[0.19553754 0.09657736 0.51440766]]\n"
     ]
    },
    {
     "name": "stderr",
     "output_type": "stream",
     "text": [
      "100% (1000 of 1000) |#####################| Elapsed Time: 0:00:08 Time: 0:00:08\n",
      "  1% (12 of 1000) |                       | Elapsed Time: 0:00:00 ETA:  0:00:08"
     ]
    },
    {
     "name": "stdout",
     "output_type": "stream",
     "text": [
      "[-0.67720751 -0.19006806 -0.60561443]\n",
      "[[0.08651953 0.54218585 0.46398067]]\n",
      "[[-0.00922141 -0.55402349 -0.13872367]]\n",
      "[[ 0.17514206 -0.01282139  0.50557005]] [-0.67720751 -0.19006806 -0.60561443]\n",
      "[[0.19553754 0.01717097 0.51440766]]\n"
     ]
    },
    {
     "name": "stderr",
     "output_type": "stream",
     "text": [
      "100% (1000 of 1000) |#####################| Elapsed Time: 0:00:08 Time: 0:00:08\n",
      "  1% (12 of 1000) |                       | Elapsed Time: 0:00:00 ETA:  0:00:08"
     ]
    },
    {
     "name": "stdout",
     "output_type": "stream",
     "text": [
      "[-0.67720751 -0.20840971 -0.60561443]\n",
      "[[0.08651953 0.67189015 0.46398067]]\n",
      "[[-0.00922141 -0.46178315 -0.13872367]]\n",
      "[[0.17514206 0.05426204 0.50557005]] [-0.67720751 -0.20840971 -0.60561443]\n",
      "[[0.19553754 0.07398739 0.51440766]]\n"
     ]
    },
    {
     "name": "stderr",
     "output_type": "stream",
     "text": [
      "100% (1000 of 1000) |#####################| Elapsed Time: 0:00:08 Time: 0:00:08\n",
      "  1% (12 of 1000) |                       | Elapsed Time: 0:00:00 ETA:  0:00:08"
     ]
    },
    {
     "name": "stdout",
     "output_type": "stream",
     "text": [
      "[-0.67720751 -0.27655505 -0.60561443]\n",
      "[[0.08651953 0.98415633 0.46398067]]\n",
      "[[-0.00922141 -0.31431097 -0.13872367]]\n",
      "[[0.17514206 0.27789645 0.50557005]] [-0.67720751 -0.27655505 -0.60561443]\n",
      "[[0.19553754 0.28652186 0.51440766]]\n"
     ]
    },
    {
     "name": "stderr",
     "output_type": "stream",
     "text": [
      "100% (1000 of 1000) |#####################| Elapsed Time: 0:00:08 Time: 0:00:08\n"
     ]
    },
    {
     "name": "stdout",
     "output_type": "stream",
     "text": [
      "[-0.67720751 -0.19006806 -0.60561443]\n",
      "[[0.08651953 0.54218585 0.46398067]]\n",
      "[[-0.00922141 -0.55402349 -0.13872367]]\n",
      "[[ 0.17514206 -0.01282139  0.50557005]] [-0.67720751 -0.19006806 -0.60561443]\n",
      "[[0.19553754 0.01717097 0.51440766]]\n"
     ]
    }
   ],
   "source": [
    "deltas2 = []\n",
    "deltas_after_hedge2 = []\n",
    "deltas_zc = []\n",
    "deltas_boc = []\n",
    "deltas_ki = []\n",
    "drivers = np.random.multivariate_normal(np.array(\n",
    "        [0] * (2 * n_assets)), mv_hes_mkt_implied.cov, (64, 1000))\n",
    "\n",
    "for s1 in np.append(np.linspace(15*0.85, 15*1.2, 5), 15):\n",
    "    s_0 = np.array([34, 15, 25])\n",
    "    s_0[1] = s1\n",
    "    \n",
    "\n",
    "    paths = mv_hes_mkt_implied.simulate_paths_cfb_given_dW(\n",
    "        n_paths=1000, n_nodes=64, T=2, dS=1e-4, S0=s_0, dWs=drivers)\n",
    "\n",
    "    SSc, SSf, SSb, XXc, XXf, XXb, VV = paths_mkt_implied\n",
    "    paths_c = (SSc, XXc, VV)\n",
    "    \n",
    "    p1 = EuropeanPut(mv_hes_mkt_implied.univariates[assets[0]], 30, 0.5)\n",
    "    p2 = EuropeanPut(mv_hes_mkt_implied.univariates[assets[1]], 10, 0.5)\n",
    "    p3 = EuropeanPut(mv_hes_mkt_implied.univariates[assets[2]], 20, 0.5)\n",
    "    zcollar = structure['Zero Collar']\n",
    "    zcollar.spots = s_0\n",
    "    boc = structure['Best of Call']\n",
    "    boc.S_init = s_0\n",
    "    ki = structure['Best of KI Put']\n",
    "    ki.S_init = s_0\n",
    "\n",
    "    delta_zcollar = zcollar.mc_delta(spots=s_0, pre_computed_paths=paths)\n",
    "    delta_boc = boc.mc_delta(spots=s_0, pre_computed_paths=paths)\n",
    "    delta_KI = ki.mc_delta(spots=s_0, pre_computed_paths=paths)\n",
    "    dp1 = -0.1*p1.delta(s_0[0])\n",
    "    dp2 = -0.57*p2.delta(s_0[1])\n",
    "    dp3 = -(55/1000)*p3.delta(s_0[2])\n",
    "    dd = np.diag(delta_zcollar)*x - delta_boc + delta_KI\n",
    "    dd_after = np.copy(dd)\n",
    "    dd_after[0,0] += dp1\n",
    "    dd_after[0,1]+= dp2\n",
    "    dd_after[0,2] +=dp3\n",
    "    print(np.diag(delta_zcollar))\n",
    "    print(delta_boc)\n",
    "    print(delta_KI)\n",
    "    print(dd, np.diag(delta_zcollar))\n",
    "    print(dd_after)\n",
    "    deltas2.append(dd)\n",
    "    deltas_after_hedge2.append(dd_after)\n",
    "    deltas_zc.append(delta_zcollar*x[0])\n",
    "    deltas_boc.append(-delta_boc)\n",
    "    deltas_ki.append(delta_KI)"
   ]
  },
  {
   "cell_type": "code",
   "execution_count": 209,
   "metadata": {},
   "outputs": [
    {
     "name": "stderr",
     "output_type": "stream",
     "text": [
      "100% (1000 of 1000) |#####################| Elapsed Time: 0:00:08 Time: 0:00:08\n",
      "  0% (9 of 1000) |                        | Elapsed Time: 0:00:00 ETA:  0:00:12"
     ]
    },
    {
     "name": "stdout",
     "output_type": "stream",
     "text": [
      "[-0.61059205 -0.21949778 -0.62453629]\n",
      "[[0.06877604 0.64731787 0.29365832]]\n",
      "[[-0.01177478 -0.51885514 -0.26387284]]\n",
      "[[0.16368601 0.08496432 0.58537025]] [-0.61059205 -0.21949778 -0.62453629]\n",
      "[[0.18408149 0.11495668 0.60586474]]\n"
     ]
    },
    {
     "name": "stderr",
     "output_type": "stream",
     "text": [
      "100% (1000 of 1000) |#####################| Elapsed Time: 0:00:08 Time: 0:00:08\n",
      "  1% (12 of 1000) |                       | Elapsed Time: 0:00:00 ETA:  0:00:08"
     ]
    },
    {
     "name": "stdout",
     "output_type": "stream",
     "text": [
      "[-0.61059205 -0.21949778 -0.6122872 ]\n",
      "[[0.06877604 0.64731787 0.39213935]]\n",
      "[[-0.01177478 -0.51885514 -0.20694028]]\n",
      "[[0.16368601 0.08496432 0.52140595]] [-0.61059205 -0.21949778 -0.6122872 ]\n",
      "[[0.18408149 0.11495668 0.53612745]]\n"
     ]
    },
    {
     "name": "stderr",
     "output_type": "stream",
     "text": [
      "100% (1000 of 1000) |#####################| Elapsed Time: 0:00:08 Time: 0:00:08\n",
      "  1% (10 of 1000) |                       | Elapsed Time: 0:00:00 ETA:  0:00:10"
     ]
    },
    {
     "name": "stdout",
     "output_type": "stream",
     "text": [
      "[-0.61059205 -0.21949778 -0.63066295]\n",
      "[[0.06877604 0.64731787 0.51522321]]\n",
      "[[-0.01177478 -0.51885514 -0.15591848]]\n",
      "[[0.16368601 0.08496432 0.48297151]] [-0.61059205 -0.21949778 -0.63066295]\n",
      "[[0.18408149 0.11495668 0.49180912]]\n"
     ]
    },
    {
     "name": "stderr",
     "output_type": "stream",
     "text": [
      "100% (1000 of 1000) |#####################| Elapsed Time: 0:00:08 Time: 0:00:08\n",
      "  1% (12 of 1000) |                       | Elapsed Time: 0:00:00 ETA:  0:00:08"
     ]
    },
    {
     "name": "stdout",
     "output_type": "stream",
     "text": [
      "[-0.61059205 -0.21949778 -0.64672764]\n",
      "[[0.06877604 0.64731787 0.57218032]]\n",
      "[[-0.01177478 -0.51885514 -0.1259507 ]]\n",
      "[[0.16368601 0.08496432 0.48538056]] [-0.61059205 -0.21949778 -0.64672764]\n",
      "[[0.18408149 0.11495668 0.49166832]]\n"
     ]
    },
    {
     "name": "stderr",
     "output_type": "stream",
     "text": [
      "100% (1000 of 1000) |#####################| Elapsed Time: 0:00:08 Time: 0:00:08\n",
      "  1% (12 of 1000) |                       | Elapsed Time: 0:00:00 ETA:  0:00:08"
     ]
    },
    {
     "name": "stdout",
     "output_type": "stream",
     "text": [
      "[-0.61059205 -0.21949778 -0.69721943]\n",
      "[[0.06877604 0.64731787 0.65597882]]\n",
      "[[-0.01177478 -0.51885514 -0.09508761]]\n",
      "[[0.16368601 0.08496432 0.52484513]] [-0.61059205 -0.21949778 -0.69721943]\n",
      "[[0.18408149 0.11495668 0.52865016]]\n"
     ]
    },
    {
     "name": "stderr",
     "output_type": "stream",
     "text": [
      "100% (1000 of 1000) |#####################| Elapsed Time: 0:00:08 Time: 0:00:08\n"
     ]
    },
    {
     "name": "stdout",
     "output_type": "stream",
     "text": [
      "[-0.61059205 -0.21949778 -0.63066295]\n",
      "[[0.06877604 0.64731787 0.51522321]]\n",
      "[[-0.01177478 -0.51885514 -0.15591848]]\n",
      "[[0.16368601 0.08496432 0.48297151]] [-0.61059205 -0.21949778 -0.63066295]\n",
      "[[0.18408149 0.11495668 0.49180912]]\n"
     ]
    }
   ],
   "source": [
    "deltas3 = []\n",
    "deltas_after_hedge3 = []\n",
    "deltas_zc = []\n",
    "deltas_boc = []\n",
    "deltas_ki = []\n",
    "drivers = np.random.multivariate_normal(np.array(\n",
    "        [0] * (2 * n_assets)), mv_hes_mkt_implied.cov, (64, 1000))\n",
    "\n",
    "for s1 in np.append(np.linspace(25*0.8, 25*1.2, 5), 25):\n",
    "    s_0 = np.array([34, 15, 25])\n",
    "    s_0[2] = s1\n",
    "    \n",
    "\n",
    "    paths = mv_hes_mkt_implied.simulate_paths_cfb_given_dW(\n",
    "        n_paths=1000, n_nodes=64, T=2, dS=1e-4, S0=s_0, dWs=drivers)\n",
    "\n",
    "    SSc, SSf, SSb, XXc, XXf, XXb, VV = paths_mkt_implied\n",
    "    paths_c = (SSc, XXc, VV)\n",
    "    \n",
    "    p1 = EuropeanPut(mv_hes_mkt_implied.univariates[assets[0]], 30, 0.5)\n",
    "    p2 = EuropeanPut(mv_hes_mkt_implied.univariates[assets[1]], 10, 0.5)\n",
    "    p3 = EuropeanPut(mv_hes_mkt_implied.univariates[assets[2]], 20, 0.5)\n",
    "    zcollar = structure['Zero Collar']\n",
    "    zcollar.spots = s_0\n",
    "    boc = structure['Best of Call']\n",
    "    boc.S_init = s_0\n",
    "    ki = structure['Best of KI Put']\n",
    "    ki.S_init = s_0\n",
    "\n",
    "    delta_zcollar = zcollar.mc_delta(spots=s_0, pre_computed_paths=paths)\n",
    "    delta_boc = boc.mc_delta(spots=s_0, pre_computed_paths=paths)\n",
    "    delta_KI = ki.mc_delta(spots=s_0, pre_computed_paths=paths)\n",
    "    dp1 = -0.1*p1.delta(s_0[0])\n",
    "    dp2 = -0.57*p2.delta(s_0[1])\n",
    "    dp3 = -(55/1000)*p3.delta(s_0[2])\n",
    "    dd = np.diag(delta_zcollar)*x - delta_boc + delta_KI\n",
    "    dd_after = np.copy(dd)\n",
    "    dd_after[0,0] += dp1\n",
    "    dd_after[0,1]+= dp2\n",
    "    dd_after[0,2] +=dp3\n",
    "    print(np.diag(delta_zcollar))\n",
    "    print(delta_boc)\n",
    "    print(delta_KI)\n",
    "    print(dd, np.diag(delta_zcollar))\n",
    "    print(dd_after)\n",
    "    deltas3.append(dd)\n",
    "    deltas_after_hedge3.append(dd_after)\n",
    "    deltas_zc.append(delta_zcollar*x[0])\n",
    "    deltas_boc.append(-delta_boc)\n",
    "    deltas_ki.append(delta_KI)"
   ]
  },
  {
   "cell_type": "code",
   "execution_count": 207,
   "metadata": {},
   "outputs": [
    {
     "data": {
      "text/plain": [
       "[-0.3068990829444562,\n",
       " -0.40223756364971,\n",
       " -0.4419328109244973,\n",
       " -0.4528927276433281,\n",
       " -0.3692204226563911]"
      ]
     },
     "execution_count": 207,
     "metadata": {},
     "output_type": "execute_result"
    }
   ],
   "source": [
    "dd2"
   ]
  },
  {
   "cell_type": "code",
   "execution_count": 208,
   "metadata": {},
   "outputs": [
    {
     "data": {
      "text/plain": [
       "[array([[0.18088538, 0.04809676, 0.61158703]]),\n",
       " array([[0.18088538, 0.04809676, 0.51624855]]),\n",
       " array([[0.18088538, 0.04809676, 0.47655331]]),\n",
       " array([[0.18088538, 0.04809676, 0.46559339]]),\n",
       " array([[0.18088538, 0.04809676, 0.54926569]]),\n",
       " array([[0.18088538, 0.04809676, 0.91848612]])]"
      ]
     },
     "execution_count": 208,
     "metadata": {},
     "output_type": "execute_result"
    }
   ],
   "source": [
    "deltas_after_hedge3"
   ]
  },
  {
   "cell_type": "code",
   "execution_count": 214,
   "metadata": {},
   "outputs": [
    {
     "name": "stderr",
     "output_type": "stream",
     "text": [
      "/Users/zed/anaconda/lib/python3.6/site-packages/ipykernel_launcher.py:7: DeprecationWarning: `spline` is deprecated!\n",
      "spline is deprecated in scipy 0.19.0, use Bspline class instead.\n",
      "  import sys\n",
      "/Users/zed/anaconda/lib/python3.6/site-packages/ipykernel_launcher.py:8: DeprecationWarning: `spline` is deprecated!\n",
      "spline is deprecated in scipy 0.19.0, use Bspline class instead.\n",
      "  \n",
      "/Users/zed/anaconda/lib/python3.6/site-packages/ipykernel_launcher.py:17: DeprecationWarning: `spline` is deprecated!\n",
      "spline is deprecated in scipy 0.19.0, use Bspline class instead.\n",
      "/Users/zed/anaconda/lib/python3.6/site-packages/ipykernel_launcher.py:18: DeprecationWarning: `spline` is deprecated!\n",
      "spline is deprecated in scipy 0.19.0, use Bspline class instead.\n",
      "/Users/zed/anaconda/lib/python3.6/site-packages/ipykernel_launcher.py:27: DeprecationWarning: `spline` is deprecated!\n",
      "spline is deprecated in scipy 0.19.0, use Bspline class instead.\n",
      "/Users/zed/anaconda/lib/python3.6/site-packages/ipykernel_launcher.py:28: DeprecationWarning: `spline` is deprecated!\n",
      "spline is deprecated in scipy 0.19.0, use Bspline class instead.\n"
     ]
    },
    {
     "data": {
      "text/plain": [
       "<matplotlib.legend.Legend at 0x131707a20>"
      ]
     },
     "execution_count": 214,
     "metadata": {},
     "output_type": "execute_result"
    },
    {
     "data": {
      "image/png": "[encoded data removed]",
      "text/plain": [
       "<matplotlib.figure.Figure at 0x127ccf5f8>"
      ]
     },
     "metadata": {},
     "output_type": "display_data"
    }
   ],
   "source": [
    "from scipy import interpolate\n",
    "fig, axes = plt.subplots(1,3,figsize=(15,5))\n",
    "ss =np.linspace(34*0.85, 34*1.2, 5)\n",
    "ss2 = np.linspace(34*0.85, 34*1.2, 11)\n",
    "dd = [x[0,0] for x in deltas[:-1]]\n",
    "dd2 = [x[0,0]-deltas_after_hedge[-1][0,0] for x in deltas_after_hedge[:-1]]\n",
    "yy = interpolate.spline(ss,dd,ss2)\n",
    "yy2 = interpolate.spline(ss,dd2,ss2)\n",
    "axes[0].plot(ss2,yy,'--', label='Delta Before Hedge')\n",
    "axes[0].plot(ss2,yy2,'o-', color='red',label='Delta After Hedge')\n",
    "#axes[0].plot(ss,dd,'o-')\n",
    "\n",
    "ss =np.linspace(15*0.85, 15*1.2, 5)\n",
    "ss2 = np.linspace(15*0.85, 15*1.2, 11)\n",
    "dd = [x[0,1] for x in deltas2[:-1]]\n",
    "dd2 = [x[0,1]-deltas_after_hedge2[-1][0,1] for x in deltas_after_hedge2[:-1]]\n",
    "yy = interpolate.spline(ss,dd,ss2)\n",
    "yy2 = interpolate.spline(ss,dd2,ss2)\n",
    "axes[1].plot(ss2,yy,'--')\n",
    "axes[1].plot(ss2,yy2,'o-', color='red',label='Delta After Hedge')\n",
    "#axes[1].plot(ss,dd,'o-')\n",
    "\n",
    "ss =np.linspace(25*0.8, 25*1.2, 5)\n",
    "ss2 = np.linspace(25*0.8, 25*1.2, 11)\n",
    "dd = [x[0,2] for x in deltas3[:-1]]\n",
    "dd2 = [x[0,2]-deltas_after_hedge3[-1][0,2] for x in deltas_after_hedge3[:-1]]\n",
    "yy = interpolate.spline(ss,dd,ss2)\n",
    "yy2 = interpolate.spline(ss,dd2,ss2)\n",
    "axes[2].plot(ss2,yy,'--')\n",
    "axes[2].plot(ss2,yy2,'o-', color='red',label='Delta After Hedge')\n",
    "#axes[2].plot(ss,dd,'o-')\n",
    "axes[0].set_title('Delta S1')\n",
    "axes[1].set_title('Delta S2')\n",
    "axes[2].set_title('Delta S3')\n",
    "axes[0].set_xlabel('S1')\n",
    "axes[1].set_xlabel('S2')\n",
    "axes[2].set_xlabel('S3')\n",
    "axes[0].axvline(34, linestyle='--', color='black', alpha=0.3, label='Current Stock Price')\n",
    "axes[1].axvline(15, linestyle='--', color='black', alpha=0.3)\n",
    "axes[2].axvline(25, linestyle='--', color='black', alpha=0.3)\n",
    "axes[0].axhline(0,  linestyle='--', color='black', alpha=0.3)\n",
    "axes[1].axhline(0,  linestyle='--', color='black', alpha=0.3)\n",
    "axes[2].axhline(0,  linestyle='--', color='black', alpha=0.3)\n",
    "axes[0].legend()"
   ]
  },
  {
   "cell_type": "code",
   "execution_count": 127,
   "metadata": {},
   "outputs": [
    {
     "data": {
      "text/plain": [
       "[<matplotlib.lines.Line2D at 0x127095fd0>]"
      ]
     },
     "execution_count": 127,
     "metadata": {},
     "output_type": "execute_result"
    },
    {
     "data": {
      "image/png": "[encoded data removed]",
      "text/plain": [
       "<matplotlib.figure.Figure at 0x126f28358>"
      ]
     },
     "metadata": {},
     "output_type": "display_data"
    }
   ],
   "source": [
    "from scipy import interpolate\n",
    "dd = [x[0,0] for x in deltas_zc[1:]]\n",
    "ss =np.linspace(34*0.1, 34*1.5, 11)[1:]\n",
    "#ss2 = np.linspace(34*0.9, 34*1.1, 21)\n",
    "#yy = interpolate.spline(ss,dd,ss2)\n",
    "plt.plot(ss,dd,'o-')"
   ]
  },
  {
   "cell_type": "code",
   "execution_count": 128,
   "metadata": {},
   "outputs": [
    {
     "data": {
      "text/plain": [
       "[<matplotlib.lines.Line2D at 0x123a93828>]"
      ]
     },
     "execution_count": 128,
     "metadata": {},
     "output_type": "execute_result"
    },
    {
     "data": {
      "image/png": "[encoded data removed]",
      "text/plain": [
       "<matplotlib.figure.Figure at 0x12396be10>"
      ]
     },
     "metadata": {},
     "output_type": "display_data"
    }
   ],
   "source": [
    "dd = [x[0,0] for x in deltas_boc[1:]]\n",
    "ss =np.linspace(34*0.1, 34*1.5, 11)[1:]\n",
    "#ss2 = np.linspace(34*0.9, 34*1.1, 21)\n",
    "#yy = interpolate.spline(ss,dd,ss2)\n",
    "plt.plot(ss,dd,'o-')"
   ]
  },
  {
   "cell_type": "code",
   "execution_count": 129,
   "metadata": {},
   "outputs": [
    {
     "data": {
      "text/plain": [
       "[<matplotlib.lines.Line2D at 0x123ad8208>]"
      ]
     },
     "execution_count": 129,
     "metadata": {},
     "output_type": "execute_result"
    },
    {
     "data": {
      "image/png": "[encoded data removed]",
      "text/plain": [
       "<matplotlib.figure.Figure at 0x123b3b048>"
      ]
     },
     "metadata": {},
     "output_type": "display_data"
    }
   ],
   "source": [
    "dd = [x[0,0] for x in deltas_ki[1:]]\n",
    "ss =np.linspace(34*0.1, 34*1.5, 11)[1:]\n",
    "#ss2 = np.linspace(34*0.9, 34*1.1, 21)\n",
    "#yy = interpolate.spline(ss,dd,ss2)\n",
    "plt.plot(ss,dd,'o-')"
   ]
  },
  {
   "cell_type": "code",
   "execution_count": 123,
   "metadata": {},
   "outputs": [
    {
     "name": "stderr",
     "output_type": "stream",
     "text": [
      "/Users/zed/anaconda/lib/python3.6/site-packages/ipykernel_launcher.py:5: DeprecationWarning: `spline` is deprecated!\n",
      "spline is deprecated in scipy 0.19.0, use Bspline class instead.\n",
      "  \"\"\"\n"
     ]
    },
    {
     "data": {
      "text/plain": [
       "[<matplotlib.lines.Line2D at 0x126f45b00>]"
      ]
     },
     "execution_count": 123,
     "metadata": {},
     "output_type": "execute_result"
    },
    {
     "data": {
      "image/png": "[encoded data removed]",
      "text/plain": [
       "<matplotlib.figure.Figure at 0x126f28278>"
      ]
     },
     "metadata": {},
     "output_type": "display_data"
    }
   ],
   "source": [
    "from scipy import interpolate\n",
    "dd = [x[0,0] for x in deltas_ki]\n",
    "ss =np.linspace(34*0.5, 34*1.5, 11)\n",
    "ss2 = np.linspace(34*0.5, 34*1.5, 21)\n",
    "yy = interpolate.spline(ss,dd,ss2)\n",
    "plt.plot(ss2,yy,'o-')"
   ]
  },
  {
   "cell_type": "code",
   "execution_count": 145,
   "metadata": {},
   "outputs": [
    {
     "name": "stderr",
     "output_type": "stream",
     "text": [
      "/Users/zed/anaconda/lib/python3.6/site-packages/ipykernel_launcher.py:7: DeprecationWarning: `spline` is deprecated!\n",
      "spline is deprecated in scipy 0.19.0, use Bspline class instead.\n",
      "  import sys\n",
      "/Users/zed/anaconda/lib/python3.6/site-packages/ipykernel_launcher.py:10: DeprecationWarning: `spline` is deprecated!\n",
      "spline is deprecated in scipy 0.19.0, use Bspline class instead.\n",
      "  # Remove the CWD from sys.path while we load stuff.\n",
      "/Users/zed/anaconda/lib/python3.6/site-packages/ipykernel_launcher.py:13: DeprecationWarning: `spline` is deprecated!\n",
      "spline is deprecated in scipy 0.19.0, use Bspline class instead.\n",
      "  del sys.path[0]\n",
      "/Users/zed/anaconda/lib/python3.6/site-packages/ipykernel_launcher.py:16: DeprecationWarning: `spline` is deprecated!\n",
      "spline is deprecated in scipy 0.19.0, use Bspline class instead.\n",
      "  app.launch_new_instance()\n"
     ]
    },
    {
     "data": {
      "text/plain": [
       "[<matplotlib.lines.Line2D at 0x12dcfc748>]"
      ]
     },
     "execution_count": 145,
     "metadata": {},
     "output_type": "execute_result"
    },
    {
     "data": {
      "image/png": "[encoded data removed]",
      "text/plain": [
       "<matplotlib.figure.Figure at 0x1255f4278>"
      ]
     },
     "metadata": {},
     "output_type": "display_data"
    }
   ],
   "source": [
    "from scipy import interpolate\n",
    "fig, axes = plt.subplots(1,4,figsize=(20,5))\n",
    "ss =np.linspace(34*0.85, 34*1.2, 5)\n",
    "ss2 = np.linspace(34*0.85, 34*1.2, 11)\n",
    "\n",
    "dd = [x[0,0] for x in deltas_zc]\n",
    "yy = interpolate.spline(ss,dd,ss2)\n",
    "axes[0].plot(ss2,yy,'o-')\n",
    "dd = [x[0,0] for x in deltas_boc]\n",
    "yy = interpolate.spline(ss,dd,ss2)\n",
    "axes[1].plot(ss2,yy,'o-')\n",
    "dd = [x[0,0] for x in deltas_ki]\n",
    "yy = interpolate.spline(ss,dd,ss2)\n",
    "axes[2].plot(ss2,yy,'o-')\n",
    "dd = [x[0,0] for x in deltas]\n",
    "yy = interpolate.spline(ss,dd,ss2)\n",
    "axes[3].plot(ss2,yy,'o-', color='red')\n",
    "\n"
   ]
  },
  {
   "cell_type": "code",
   "execution_count": 148,
   "metadata": {},
   "outputs": [
    {
     "name": "stderr",
     "output_type": "stream",
     "text": [
      "100% (1000 of 1000) |#####################| Elapsed Time: 0:00:08 Time: 0:00:08\n",
      "  1% (13 of 1000) |                       | Elapsed Time: 0:00:00 ETA:  0:00:07"
     ]
    },
    {
     "name": "stdout",
     "output_type": "stream",
     "text": [
      "[-0.63864387 -0.21992749 -0.57063849]\n",
      "[[0.07619014 0.13514433 0.40542571]]\n",
      "[[-0.00946061 -0.9473534  -0.18018294]]\n",
      "[[0.16980679 0.17108894 0.45865979]] [-0.63864387 -0.21992749 -0.57063849]\n"
     ]
    },
    {
     "name": "stderr",
     "output_type": "stream",
     "text": [
      "100% (1000 of 1000) |#####################| Elapsed Time: 0:00:08 Time: 0:00:08\n",
      "  1% (12 of 1000) |                       | Elapsed Time: 0:00:00 ETA:  0:00:08"
     ]
    },
    {
     "name": "stdout",
     "output_type": "stream",
     "text": [
      "[-0.63864387 -0.1900405  -0.57063849]\n",
      "[[0.07619014 0.45468841 0.40542571]]\n",
      "[[-0.00946061 -0.64618168 -0.18018294]]\n",
      "[[ 0.16980679 -0.01763924  0.45865979]] [-0.63864387 -0.1900405  -0.57063849]\n"
     ]
    },
    {
     "name": "stderr",
     "output_type": "stream",
     "text": [
      "100% (1000 of 1000) |#####################| Elapsed Time: 0:00:08 Time: 0:00:08\n",
      "  1% (12 of 1000) |                       | Elapsed Time: 0:00:00 ETA:  0:00:08"
     ]
    },
    {
     "name": "stdout",
     "output_type": "stream",
     "text": [
      "[-0.63864387 -0.21137482 -0.57063849]\n",
      "[[0.07619014 0.68781767 0.40542571]]\n",
      "[[-0.00946061 -0.55517302 -0.18018294]]\n",
      "[[ 0.16980679 -0.03815422  0.45865979]] [-0.63864387 -0.21137482 -0.57063849]\n"
     ]
    },
    {
     "name": "stderr",
     "output_type": "stream",
     "text": [
      "100% (1000 of 1000) |#####################| Elapsed Time: 0:00:08 Time: 0:00:08\n",
      "  1% (13 of 1000) |                       | Elapsed Time: 0:00:00 ETA:  0:00:08"
     ]
    },
    {
     "name": "stdout",
     "output_type": "stream",
     "text": [
      "[-0.63864387 -0.23706252 -0.57063849]\n",
      "[[0.07619014 0.80990448 0.40542571]]\n",
      "[[-0.00946061 -0.46285036 -0.18018294]]\n",
      "[[0.16980679 0.07850154 0.45865979]] [-0.63864387 -0.23706252 -0.57063849]\n"
     ]
    },
    {
     "name": "stderr",
     "output_type": "stream",
     "text": [
      "100% (1000 of 1000) |#####################| Elapsed Time: 0:00:08 Time: 0:00:08\n"
     ]
    },
    {
     "name": "stdout",
     "output_type": "stream",
     "text": [
      "[-0.63864387 -0.33004775 -0.57063849]\n",
      "[[0.07619014 1.20309012 0.40542571]]\n",
      "[[-0.00946061 -0.26810886 -0.18018294]]\n",
      "[[0.16980679 0.41007317 0.45865979]] [-0.63864387 -0.33004775 -0.57063849]\n"
     ]
    }
   ],
   "source": [
    "deltas2 = []\n",
    "deltas_zc2 = []\n",
    "deltas_boc2 = []\n",
    "deltas_ki2 = []\n",
    "drivers = np.random.multivariate_normal(np.array(\n",
    "        [0] * (2 * n_assets)), mv_hes_mkt_implied.cov, (64, 1000))\n",
    "\n",
    "for s1 in np.linspace(15*0.85, 15*1.2, 5):\n",
    "    s_0 = np.array([34, 15, 25])\n",
    "    s_0[1] = s1\n",
    "    \n",
    "\n",
    "    paths = mv_hes_mkt_implied.simulate_paths_cfb_given_dW(\n",
    "        n_paths=1000, n_nodes=64, T=2, dS=1e-4, S0=s_0, dWs=drivers)\n",
    "\n",
    "    SSc, SSf, SSb, XXc, XXf, XXb, VV = paths_mkt_implied\n",
    "    paths_c = (SSc, XXc, VV)\n",
    "\n",
    "    zcollar = structure['Zero Collar']\n",
    "    zcollar.spots = s_0\n",
    "    boc = structure['Best of Call']\n",
    "    boc.S_init = s_0\n",
    "    ki = structure['Best of KI Put']\n",
    "    ki.S_init = s_0\n",
    "\n",
    "    delta_zcollar = zcollar.mc_delta(spots=s_0, pre_computed_paths=paths)\n",
    "    delta_boc = boc.mc_delta(spots=s_0, pre_computed_paths=paths)\n",
    "    delta_KI = ki.mc_delta(spots=s_0, pre_computed_paths=paths)\n",
    "    dd = np.diag(delta_zcollar)*x - delta_boc + delta_KI\n",
    "    print(np.diag(delta_zcollar))\n",
    "    print(delta_boc)\n",
    "    print(delta_KI)\n",
    "    print(dd, np.diag(delta_zcollar))\n",
    "    deltas2.append(dd)\n",
    "    deltas_zc2.append(delta_zcollar*x[0])\n",
    "    deltas_boc2.append(-delta_boc)\n",
    "    deltas_ki2.append(delta_KI)"
   ]
  },
  {
   "cell_type": "code",
   "execution_count": 158,
   "metadata": {},
   "outputs": [
    {
     "name": "stderr",
     "output_type": "stream",
     "text": [
      "100% (1000 of 1000) |#####################| Elapsed Time: 0:00:08 Time: 0:00:08\n",
      "  1% (12 of 1000) |                       | Elapsed Time: 0:00:00 ETA:  0:00:08"
     ]
    },
    {
     "name": "stdout",
     "output_type": "stream",
     "text": [
      "[-0.63951309 -0.19243267 -0.6325704 ]\n",
      "[[0.08148598 0.50717641 0.24810398]]\n",
      "[[-0.00794463 -0.54610785 -0.2443391 ]]\n",
      "[[0.16637463 0.04358196 0.66516076]] [-0.63951309 -0.19243267 -0.6325704 ]\n"
     ]
    },
    {
     "name": "stderr",
     "output_type": "stream",
     "text": [
      "100% (1000 of 1000) |#####################| Elapsed Time: 0:00:08 Time: 0:00:08\n",
      "  1% (12 of 1000) |                       | Elapsed Time: 0:00:00 ETA:  0:00:08"
     ]
    },
    {
     "name": "stdout",
     "output_type": "stream",
     "text": [
      "[-0.63951309 -0.19243267 -0.59056702]\n",
      "[[0.08148598 0.50717641 0.3214916 ]]\n",
      "[[-0.00794463 -0.54610785 -0.19713381]]\n",
      "[[0.16637463 0.04358196 0.56211224]] [-0.63951309 -0.19243267 -0.59056702]\n"
     ]
    },
    {
     "name": "stderr",
     "output_type": "stream",
     "text": [
      "100% (1000 of 1000) |#####################| Elapsed Time: 0:00:08 Time: 0:00:08\n",
      "  1% (12 of 1000) |                       | Elapsed Time: 0:00:00 ETA:  0:00:08"
     ]
    },
    {
     "name": "stdout",
     "output_type": "stream",
     "text": [
      "[-0.63951309 -0.19243267 -0.57983918]\n",
      "[[0.08148598 0.50717641 0.4249601 ]]\n",
      "[[-0.00794463 -0.54610785 -0.1462438 ]]\n",
      "[[0.16637463 0.04358196 0.48990181]] [-0.63951309 -0.19243267 -0.57983918]\n"
     ]
    },
    {
     "name": "stderr",
     "output_type": "stream",
     "text": [
      "100% (1000 of 1000) |#####################| Elapsed Time: 0:00:07 Time: 0:00:07\n",
      "  1% (12 of 1000) |                       | Elapsed Time: 0:00:00 ETA:  0:00:08"
     ]
    },
    {
     "name": "stdout",
     "output_type": "stream",
     "text": [
      "[-0.63951309 -0.19243267 -0.59923838]\n",
      "[[0.08148598 0.50717641 0.49748217]]\n",
      "[[-0.00794463 -0.54610785 -0.1103787 ]]\n",
      "[[0.16637463 0.04358196 0.48874536]] [-0.63951309 -0.19243267 -0.59923838]\n"
     ]
    },
    {
     "name": "stderr",
     "output_type": "stream",
     "text": [
      "100% (1000 of 1000) |#####################| Elapsed Time: 0:00:09 Time: 0:00:09\n"
     ]
    },
    {
     "name": "stdout",
     "output_type": "stream",
     "text": [
      "[-0.63951309 -0.19243267 -0.66389157]\n",
      "[[0.08148598 0.50717641 0.57945873]]\n",
      "[[-0.00794463 -0.54610785 -0.0975196 ]]\n",
      "[[0.16637463 0.04358196 0.53794324]] [-0.63951309 -0.19243267 -0.66389157]\n"
     ]
    }
   ],
   "source": [
    "deltas3 = []\n",
    "deltas_zc3 = []\n",
    "deltas_boc3 = []\n",
    "deltas_ki3 = []\n",
    "drivers = np.random.multivariate_normal(np.array(\n",
    "        [0] * (2 * n_assets)), mv_hes_mkt_implied.cov, (64, 1000))\n",
    "\n",
    "for s1 in np.linspace(25*0.8, 25*1.2, 5):\n",
    "    s_0 = np.array([34, 15, 25])\n",
    "    s_0[2] = s1\n",
    "    \n",
    "\n",
    "    paths = mv_hes_mkt_implied.simulate_paths_cfb_given_dW(\n",
    "        n_paths=1000, n_nodes=64, T=2, dS=1e-4, S0=s_0, dWs=drivers)\n",
    "\n",
    "    SSc, SSf, SSb, XXc, XXf, XXb, VV = paths_mkt_implied\n",
    "    paths_c = (SSc, XXc, VV)\n",
    "\n",
    "    zcollar = structure['Zero Collar']\n",
    "    zcollar.spots = s_0\n",
    "    boc = structure['Best of Call']\n",
    "    boc.S_init = s_0\n",
    "    ki = structure['Best of KI Put']\n",
    "    ki.S_init = s_0\n",
    "\n",
    "    delta_zcollar = zcollar.mc_delta(spots=s_0, pre_computed_paths=paths)\n",
    "    delta_boc = boc.mc_delta(spots=s_0, pre_computed_paths=paths)\n",
    "    delta_KI = ki.mc_delta(spots=s_0, pre_computed_paths=paths)\n",
    "    dd = np.diag(delta_zcollar)*x - delta_boc + delta_KI\n",
    "    print(np.diag(delta_zcollar))\n",
    "    print(delta_boc)\n",
    "    print(delta_KI)\n",
    "    print(dd, np.diag(delta_zcollar))\n",
    "    deltas3.append(dd)\n",
    "    deltas_zc3.append(delta_zcollar*x[0])\n",
    "    deltas_boc3.append(-delta_boc)\n",
    "    deltas_ki3.append(delta_KI)"
   ]
  },
  {
   "cell_type": "code",
   "execution_count": 156,
   "metadata": {},
   "outputs": [
    {
     "data": {
      "text/plain": [
       "[0.567177268382979,\n",
       " 0.5545180489307633,\n",
       " 0.49066321138609004,\n",
       " 0.5139581251503378,\n",
       " 0.5537929592026813]"
      ]
     },
     "execution_count": 156,
     "metadata": {},
     "output_type": "execute_result"
    }
   ],
   "source": [
    "[x[0,2] for x in deltas3]"
   ]
  },
  {
   "cell_type": "code",
   "execution_count": 172,
   "metadata": {},
   "outputs": [
    {
     "data": {
      "text/plain": [
       "-0.367957404137087"
      ]
     },
     "execution_count": 172,
     "metadata": {},
     "output_type": "execute_result"
    }
   ],
   "source": [
    "from heston import EuropeanPut\n",
    "p1 = EuropeanPut(mv_hes_mkt_implied.univariates[assets[0]], 30, 0.5)\n",
    "p2 = EuropeanPut(mv_hes_mkt_implied.univariates[assets[1]], 10, 0.5)\n",
    "p3 = EuropeanPut(mv_hes_mkt_implied.univariates[assets[2]], 20, 0.5)\n",
    "p1.delta(30)"
   ]
  },
  {
   "cell_type": "code",
   "execution_count": 187,
   "metadata": {},
   "outputs": [
    {
     "data": {
      "text/plain": [
       "[array([[0.21458041, 0.21118765, 0.46817153]]),\n",
       " array([[0.18341228, 0.21118765, 0.46817153]]),\n",
       " array([[0.15898593, 0.21118765, 0.46817153]]),\n",
       " array([[0.16085202, 0.21118765, 0.46817153]]),\n",
       " array([[0.17371455, 0.21118765, 0.46817153]]),\n",
       " array([[0.15898593, 0.21118765, 0.46817153]])]"
      ]
     },
     "execution_count": 187,
     "metadata": {},
     "output_type": "execute_result"
    }
   ],
   "source": [
    "deltas"
   ]
  },
  {
   "cell_type": "code",
   "execution_count": 188,
   "metadata": {},
   "outputs": [
    {
     "data": {
      "text/plain": [
       "[]"
      ]
     },
     "execution_count": 188,
     "metadata": {},
     "output_type": "execute_result"
    }
   ],
   "source": [
    "deltas_after_hedge"
   ]
  },
  {
   "cell_type": "code",
   "execution_count": 168,
   "metadata": {},
   "outputs": [
    {
     "name": "stderr",
     "output_type": "stream",
     "text": [
      "/Users/zed/anaconda/lib/python3.6/site-packages/ipykernel_launcher.py:6: DeprecationWarning: `spline` is deprecated!\n",
      "spline is deprecated in scipy 0.19.0, use Bspline class instead.\n",
      "  \n",
      "/Users/zed/anaconda/lib/python3.6/site-packages/ipykernel_launcher.py:13: DeprecationWarning: `spline` is deprecated!\n",
      "spline is deprecated in scipy 0.19.0, use Bspline class instead.\n",
      "  del sys.path[0]\n",
      "/Users/zed/anaconda/lib/python3.6/site-packages/ipykernel_launcher.py:20: DeprecationWarning: `spline` is deprecated!\n",
      "spline is deprecated in scipy 0.19.0, use Bspline class instead.\n"
     ]
    },
    {
     "data": {
      "text/plain": [
       "<matplotlib.legend.Legend at 0x136309940>"
      ]
     },
     "execution_count": 168,
     "metadata": {},
     "output_type": "execute_result"
    },
    {
     "data": {
      "image/png": "[encoded data removed]",
      "text/plain": [
       "<matplotlib.figure.Figure at 0x136043c88>"
      ]
     },
     "metadata": {},
     "output_type": "display_data"
    }
   ],
   "source": [
    "from scipy import interpolate\n",
    "fig, axes = plt.subplots(1,3,figsize=(15,5))\n",
    "ss =np.linspace(34*0.85, 34*1.2, 5)\n",
    "ss2 = np.linspace(34*0.85, 34*1.2, 11)\n",
    "dd = [x[0,0] for x in deltas]\n",
    "yy = interpolate.spline(ss,dd,ss2)\n",
    "axes[0].plot(ss2,yy,'o-', label='Delta')\n",
    "#axes[0].plot(ss,dd,'o-')\n",
    "\n",
    "ss =np.linspace(15*0.85, 15*1.2, 5)\n",
    "ss2 = np.linspace(15*0.85, 15*1.2, 11)\n",
    "dd = [x[0,1] for x in deltas2]\n",
    "yy = interpolate.spline(ss,dd,ss2)\n",
    "axes[1].plot(ss2,yy,'o-')\n",
    "#axes[1].plot(ss,dd,'o-')\n",
    "\n",
    "ss =np.linspace(25*0.8, 25*1.2, 5)\n",
    "ss2 = np.linspace(25*0.8, 25*1.2, 11)\n",
    "dd = [x[0,2] for x in deltas3]\n",
    "yy = interpolate.spline(ss,dd,ss2)\n",
    "axes[2].plot(ss2,yy,'o-')\n",
    "#axes[2].plot(ss,dd,'o-')\n",
    "axes[0].set_title('Delta S1')\n",
    "axes[1].set_title('Delta S2')\n",
    "axes[2].set_title('Delta S3')\n",
    "axes[0].set_xlabel('S1')\n",
    "axes[1].set_xlabel('S2')\n",
    "axes[2].set_xlabel('S3')\n",
    "axes[0].axvline(34, linestyle='--', color='black', alpha=0.3, label='Current Stock Price')\n",
    "axes[1].axvline(15, linestyle='--', color='black', alpha=0.3)\n",
    "axes[2].axvline(25, linestyle='--', color='black', alpha=0.3)\n",
    "axes[0].legend()\n"
   ]
  },
  {
   "cell_type": "code",
   "execution_count": 107,
   "metadata": {},
   "outputs": [
    {
     "name": "stderr",
     "output_type": "stream",
     "text": [
      "/Users/zed/anaconda/lib/python3.6/site-packages/ipykernel_launcher.py:5: DeprecationWarning: `spline` is deprecated!\n",
      "spline is deprecated in scipy 0.19.0, use Bspline class instead.\n",
      "  \"\"\"\n"
     ]
    },
    {
     "data": {
      "text/plain": [
       "[<matplotlib.lines.Line2D at 0x124f53d30>]"
      ]
     },
     "execution_count": 107,
     "metadata": {},
     "output_type": "execute_result"
    },
    {
     "data": {
      "image/png": "[encoded data removed]",
      "text/plain": [
       "<matplotlib.figure.Figure at 0x126d9f0b8>"
      ]
     },
     "metadata": {},
     "output_type": "display_data"
    }
   ],
   "source": [
    "from scipy import interpolate\n",
    "dd = [x[0,0] for x in deltas_ki]\n",
    "ss =np.linspace(34*0.5, 34*1.5, 11)\n",
    "ss2 = np.linspace(34*0.5, 34*1.5, 21)\n",
    "yy = interpolate.spline(ss,dd,ss2)\n",
    "plt.plot(ss2,yy,'o-')"
   ]
  },
  {
   "cell_type": "code",
   "execution_count": 119,
   "metadata": {},
   "outputs": [
    {
     "name": "stderr",
     "output_type": "stream",
     "text": [
      "/Users/zed/anaconda/lib/python3.6/site-packages/ipykernel_launcher.py:5: DeprecationWarning: `spline` is deprecated!\n",
      "spline is deprecated in scipy 0.19.0, use Bspline class instead.\n",
      "  \"\"\"\n"
     ]
    },
    {
     "data": {
      "text/plain": [
       "[<matplotlib.lines.Line2D at 0x1260a52e8>]"
      ]
     },
     "execution_count": 119,
     "metadata": {},
     "output_type": "execute_result"
    },
    {
     "data": {
      "image/png": "[encoded data removed]",
      "text/plain": [
       "<matplotlib.figure.Figure at 0x125edc358>"
      ]
     },
     "metadata": {},
     "output_type": "display_data"
    }
   ],
   "source": [
    "from scipy import interpolate\n",
    "dd = [x[0,0] for x in deltas_boc]\n",
    "ss =np.linspace(34*0.5, 34*1.5, 11)\n",
    "ss2 = np.linspace(34*0.5, 34*1.5, 21)\n",
    "yy = interpolate.spline(ss,dd,ss2)\n",
    "plt.plot(ss2,yy,'o-')"
   ]
  },
  {
   "cell_type": "code",
   "execution_count": 77,
   "metadata": {},
   "outputs": [
    {
     "data": {
      "text/plain": [
       "[<matplotlib.lines.Line2D at 0x11fa7bcf8>]"
      ]
     },
     "execution_count": 77,
     "metadata": {},
     "output_type": "execute_result"
    },
    {
     "data": {
      "image/png": "[encoded data removed]",
      "text/plain": [
       "<matplotlib.figure.Figure at 0x11dd3c048>"
      ]
     },
     "metadata": {},
     "output_type": "display_data"
    }
   ],
   "source": [
    "ss = np.linspace(34*0.9, 34*1.1, 11)\n",
    "dd = [d[0,0] for d in deltas]\n",
    "plt.plot(ss,dd,'o-')"
   ]
  },
  {
   "cell_type": "markdown",
   "metadata": {},
   "source": [
    "## Valuation under Market Implied Surface $\\mathcal{M}_0$"
   ]
  },
  {
   "cell_type": "code",
   "execution_count": 19,
   "metadata": {},
   "outputs": [
    {
     "name": "stdout",
     "output_type": "stream",
     "text": [
      "[-0.2 -0.1 -0.2] 4.742748641558115 3.846027650581639\n"
     ]
    }
   ],
   "source": [
    "SSc, SSf, SSb, XXc, XXf, XXb, VV = paths_mkt_implied\n",
    "paths_c = (SSc, XXc, VV)\n",
    "zcollar = structure['Zero Collar']\n",
    "boc = structure['Best of Call']\n",
    "ki = structure['Best of KI Put']\n",
    "x = zcollar.shares\n",
    "px_zcollar, se = zcollar.mc_price(spots=s_0, pre_computed_paths=paths_c)\n",
    "px_boc, se = boc.mc_price(spots=s_0, pre_computed_paths=paths_c)\n",
    "px_KI, se = ki.mc_price(spots=s_0, pre_computed_paths=paths_c)\n",
    "value = np.sum(px_zcollar*x) - px_boc + px_KI\n",
    "print(px_zcollar, px_boc, px_KI)\n"
   ]
  },
  {
   "cell_type": "code",
   "execution_count": 51,
   "metadata": {},
   "outputs": [
    {
     "name": "stdout",
     "output_type": "stream",
     "text": [
      "Collar [-0.2 -0.1 -0.2] [0.2154492  0.05564433 0.21723374]\n",
      "put leg [1.91266293 0.19676318 1.79749833] [0.11972758 0.02216756 0.10292881]\n",
      "call leg [2.11266293 0.29676318 1.99749833] [0.14969369 0.04964952 0.16732884]\n",
      "boc 4.742748641558115 0.3716526893729494\n",
      "KI 6.757598641558048 0.5617711028243777\n",
      "3.0308499999510654\n"
     ]
    }
   ],
   "source": [
    "SSc, SSf, SSb, XXc, XXf, XXb, VV = paths_mkt_implied\n",
    "paths_c = (SSc, XXc, VV)\n",
    "zcollar = structure['Zero Collar']\n",
    "boc = structure['Best of Call']\n",
    "ki = structure['Best of KI Put']\n",
    "px_zcollar, se = zcollar.mc_price(spots=s_0, pre_computed_paths=paths_c)\n",
    "print('Collar', px_zcollar, se)\n",
    "px_pl, se = zcollar.put_leg.mc_price(spots=s_0, pre_computed_paths=paths_c)\n",
    "print('put leg', px_pl, se)\n",
    "px_cl, se = zcollar.call_leg.mc_price(spots=s_0, pre_computed_paths=paths_c)\n",
    "print('call leg', px_cl, se)\n",
    "px_boc, se = boc.mc_price(spots=s_0, pre_computed_paths=paths_c)\n",
    "print('boc',px_boc, se)\n",
    "px_KI, se = ki.mc_price(spots=s_0, pre_computed_paths=paths_c)\n",
    "print('KI',px_KI, se)\n",
    "value = np.sum(px_zcollar*x) - px_boc + px_KI\n",
    "print(value)"
   ]
  },
  {
   "cell_type": "code",
   "execution_count": 35,
   "metadata": {},
   "outputs": [
    {
     "name": "stdout",
     "output_type": "stream",
     "text": [
      "boc 4.742748641558115 0.3716526893729494\n"
     ]
    }
   ],
   "source": [
    "px_boc, se = boc.mc_price(spots=s_0, pre_computed_paths=paths_c)\n",
    "print('boc',px_boc, se)"
   ]
  },
  {
   "cell_type": "code",
   "execution_count": 56,
   "metadata": {},
   "outputs": [
    {
     "name": "stdout",
     "output_type": "stream",
     "text": [
      "KI 0.04514073708679361 0.021291198449428998 [15.75   5.025 11.   ]\n",
      "KI 0.22197999461051568 0.055333386150070635 [22.05   7.035 15.4  ]\n",
      "KI 0.6897577766759214 0.10848671277145785 [28.35   9.045 19.8  ]\n",
      "KI 1.476281412029917 0.17642101502472043 [34.65  11.055 24.2  ]\n",
      "KI 2.688247846155747 0.2566041851546343 [40.95  13.065 28.6  ]\n",
      "KI 4.384859317549295 0.34642270917365425 [47.25  15.075 33.   ]\n",
      "KI 5.381416415505892 0.39421379181957567 [50.4  16.08 35.2 ]\n"
     ]
    }
   ],
   "source": [
    "for k in [0.5, 0.7, 0.9, 1.1, 1.3, 1.5, 1.6]:\n",
    "    ki.Ks = k*np.array([31.5,  10.05, 22.  ])\n",
    "    ki.Hs = ki.Ks-np.array([2,2,2])\n",
    "    px_KI, se = ki.mc_price(spots=s_0, pre_computed_paths=paths_c)\n",
    "    print('KI',px_KI, se, ki.Ks)"
   ]
  },
  {
   "cell_type": "code",
   "execution_count": 50,
   "metadata": {},
   "outputs": [
    {
     "data": {
      "text/plain": [
       "(5.084278925225566,\n",
       " 4.1081789252255225,\n",
       " array([0.00000000e+00, 1.88646971e-16, 1.65398911e-15]))"
      ]
     },
     "execution_count": 50,
     "metadata": {},
     "output_type": "execute_result"
    }
   ],
   "source": [
    "px_KI, px_boc, px_zcollar"
   ]
  },
  {
   "cell_type": "code",
   "execution_count": null,
   "metadata": {
    "collapsed": true
   },
   "outputs": [],
   "source": []
  }
 ],
 "metadata": {
  "kernelspec": {
   "display_name": "Python 3",
   "language": "python",
   "name": "python3"
  },
  "language_info": {
   "codemirror_mode": {
    "name": "ipython",
    "version": 3
   },
   "file_extension": ".py",
   "mimetype": "text/x-python",
   "name": "python",
   "nbconvert_exporter": "python",
   "pygments_lexer": "ipython3",
   "version": "3.6.4"
  }
 },
 "nbformat": 4,
 "nbformat_minor": 2
}
