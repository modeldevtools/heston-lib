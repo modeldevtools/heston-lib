{
 "cells": [
  {
   "cell_type": "code",
   "execution_count": 58,
   "metadata": {
    "collapsed": true
   },
   "outputs": [],
   "source": [
    "from heston import UnivariateHestonSV\n",
    "UnivariateHestonSV.heston_call_px?"
   ]
  },
  {
   "cell_type": "code",
   "execution_count": 19,
   "metadata": {
    "collapsed": true
   },
   "outputs": [],
   "source": [
    "import numpy as np\n",
    "import pandas as pd\n",
    "import matplotlib.pyplot as plt\n",
    "from mpl_toolkits.mplot3d import Axes3D\n",
    "from matplotlib import cm\n",
    "from scipy.optimize import least_squares\n",
    "%matplotlib inline\n",
    "\n",
    "from heston import UnivariateHestonSV, MultivariateHestonSV\n",
    "from heston import make_surface\n",
    "from heston import MultiAssetsOption, MultiAssetsAsianPut, MultiAssetsAsianCall\n",
    "from heston import MultiAssetsDiscreteKIEuropeanPut, MultiAssetsAsianZeroCostCollar\n",
    "from heston import MultiAssetsBestOfAsianCall, MultiAssetsWorstOfDiscreteKIEuropeanPut\n",
    "from heston import structure_constructor, structure_constructor_best_eu"
   ]
  },
  {
   "cell_type": "code",
   "execution_count": 2,
   "metadata": {},
   "outputs": [
    {
     "data": {
      "text/html": [
       "<div>\n",
       "<style>\n",
       "    .dataframe thead tr:only-child th {\n",
       "        text-align: right;\n",
       "    }\n",
       "\n",
       "    .dataframe thead th {\n",
       "        text-align: left;\n",
       "    }\n",
       "\n",
       "    .dataframe tbody tr th {\n",
       "        vertical-align: top;\n",
       "    }\n",
       "</style>\n",
       "<table border=\"1\" class=\"dataframe\">\n",
       "  <thead>\n",
       "    <tr style=\"text-align: right;\">\n",
       "      <th></th>\n",
       "      <th>corp</th>\n",
       "      <th>strike</th>\n",
       "      <th>mat</th>\n",
       "      <th>iv</th>\n",
       "      <th>S0</th>\n",
       "      <th>adv</th>\n",
       "      <th>tot_shr</th>\n",
       "      <th>owned_shr</th>\n",
       "      <th>avg_buy_px</th>\n",
       "      <th>bs_px</th>\n",
       "    </tr>\n",
       "  </thead>\n",
       "  <tbody>\n",
       "    <tr>\n",
       "      <th>0</th>\n",
       "      <td>Green Co.</td>\n",
       "      <td>30</td>\n",
       "      <td>0.083333</td>\n",
       "      <td>NaN</td>\n",
       "      <td>34</td>\n",
       "      <td>217000</td>\n",
       "      <td>30</td>\n",
       "      <td>4.25</td>\n",
       "      <td>31.5</td>\n",
       "      <td>NaN</td>\n",
       "    </tr>\n",
       "    <tr>\n",
       "      <th>1</th>\n",
       "      <td>Green Co.</td>\n",
       "      <td>30</td>\n",
       "      <td>0.250000</td>\n",
       "      <td>0.3747</td>\n",
       "      <td>34</td>\n",
       "      <td>217000</td>\n",
       "      <td>30</td>\n",
       "      <td>4.25</td>\n",
       "      <td>31.5</td>\n",
       "      <td>5.143945</td>\n",
       "    </tr>\n",
       "    <tr>\n",
       "      <th>2</th>\n",
       "      <td>Green Co.</td>\n",
       "      <td>30</td>\n",
       "      <td>0.500000</td>\n",
       "      <td>0.3686</td>\n",
       "      <td>34</td>\n",
       "      <td>217000</td>\n",
       "      <td>30</td>\n",
       "      <td>4.25</td>\n",
       "      <td>31.5</td>\n",
       "      <td>6.126322</td>\n",
       "    </tr>\n",
       "    <tr>\n",
       "      <th>3</th>\n",
       "      <td>Green Co.</td>\n",
       "      <td>35</td>\n",
       "      <td>0.083333</td>\n",
       "      <td>0.4211</td>\n",
       "      <td>34</td>\n",
       "      <td>217000</td>\n",
       "      <td>30</td>\n",
       "      <td>4.25</td>\n",
       "      <td>31.5</td>\n",
       "      <td>1.270197</td>\n",
       "    </tr>\n",
       "    <tr>\n",
       "      <th>4</th>\n",
       "      <td>Green Co.</td>\n",
       "      <td>35</td>\n",
       "      <td>0.250000</td>\n",
       "      <td>0.3418</td>\n",
       "      <td>34</td>\n",
       "      <td>217000</td>\n",
       "      <td>30</td>\n",
       "      <td>4.25</td>\n",
       "      <td>31.5</td>\n",
       "      <td>2.044304</td>\n",
       "    </tr>\n",
       "  </tbody>\n",
       "</table>\n",
       "</div>"
      ],
      "text/plain": [
       "        corp  strike       mat      iv  S0     adv  tot_shr  owned_shr  \\\n",
       "0  Green Co.      30  0.083333     NaN  34  217000       30       4.25   \n",
       "1  Green Co.      30  0.250000  0.3747  34  217000       30       4.25   \n",
       "2  Green Co.      30  0.500000  0.3686  34  217000       30       4.25   \n",
       "3  Green Co.      35  0.083333  0.4211  34  217000       30       4.25   \n",
       "4  Green Co.      35  0.250000  0.3418  34  217000       30       4.25   \n",
       "\n",
       "   avg_buy_px     bs_px  \n",
       "0        31.5       NaN  \n",
       "1        31.5  5.143945  \n",
       "2        31.5  6.126322  \n",
       "3        31.5  1.270197  \n",
       "4        31.5  2.044304  "
      ]
     },
     "execution_count": 2,
     "metadata": {},
     "output_type": "execute_result"
    }
   ],
   "source": [
    "data = pd.read_excel('data/equities.xlsx', index_col=0)\n",
    "assets = data.corp.unique()\n",
    "data.head()"
   ]
  },
  {
   "cell_type": "code",
   "execution_count": 3,
   "metadata": {
    "collapsed": true
   },
   "outputs": [],
   "source": [
    "assets = data.corp.unique()\n",
    "mv_hes = MultivariateHestonSV(assets)\n",
    "mv_hes.set_params(\n",
    "    {\n",
    "        # parameters list: ['kappa', 'v0', 'theta', 'eta', 'rho_sv']\n",
    "        assets[0]: [12.22153077,  0.19999999,  0.10679624,  1.11942453, -0.79999979],\n",
    "        assets[1]: [ 0.69115605,  0.11214887,  0.4196924 ,  0.19383575, -0.79890507],\n",
    "        assets[2]: [ 2.0236936 ,  0.14899818,  0.30447942,  0.4452153 , -0.79999991],\n",
    "        # risk free rate\n",
    "        'r': 0.045,\n",
    "        # stock covariance matrix\n",
    "        'cov_s': np.array([\n",
    "            [1, 0.3, 0.3],\n",
    "            [0.3, 1, 0.3],\n",
    "            [0.3, 0.3, 1]\n",
    "        ])\n",
    "    }\n",
    ")"
   ]
  },
  {
   "cell_type": "markdown",
   "metadata": {},
   "source": [
    "## Optimization"
   ]
  },
  {
   "cell_type": "code",
   "execution_count": 46,
   "metadata": {},
   "outputs": [
    {
     "name": "stderr",
     "output_type": "stream",
     "text": [
      "100% (1000 of 1000) |#####################| Elapsed Time: 0:00:40 Time: 0:00:40\n"
     ]
    }
   ],
   "source": [
    "s_0 = np.array([34, 15, 25]) # time-0 stock price\n",
    "# use pre-computed paths to speed things up\n",
    "n = 1000\n",
    "paths = mv_hes.simulate_paths_cfb(\n",
    "    n_paths=n, n_nodes=252, T=2, dS=1e-4, S0=s_0)"
   ]
  },
  {
   "cell_type": "code",
   "execution_count": 38,
   "metadata": {
    "collapsed": true
   },
   "outputs": [],
   "source": [
    "s_0 = np.array([34, 15, 25])\n",
    "adv = data.adv.unique() / 1e6\n",
    "markup = (np.array([0.1, 0.1, 0.1]), 0.0)\n",
    "\n",
    "def metric(K, D, x, R, p):\n",
    "    loss, structure, pct_adv, cap, deltas, slip = structure_constructor(\n",
    "        model=mv_hes, x=x, put_Ks=K, Ds=D, R_req=R, adv=adv, \n",
    "        adv_thres=0.3, S0=s_0, cap_required=100, alpha=0.1, pre_computed_paths=paths, \n",
    "        premiums=p)\n",
    "    delta_collar, delta_boc, delta_KI = deltas\n",
    "    delta_tot = delta_collar-delta_boc+delta_KI\n",
    "    # print(structure)\n",
    "    print('Put Strikes:', K)\n",
    "    print('Shares:', x)\n",
    "    print('Loss:', loss)\n",
    "    print('|X/ADV|:', np.abs(pct_adv))\n",
    "    print('Price Slippage', slip)\n",
    "    print('Pct Price Slippage (BPs)', (slip/s_0)*1e4)\n",
    "    print('Dollar Slippage', slip.dot(delta_tot.reshape(3,))[0])\n",
    "    print('Dollar Premium', -markup[0].dot(x)+markup[1])\n",
    "    print('Locked-in Capital:', cap)\n",
    "    print('Deltas/Sell x Collar:', delta_collar)\n",
    "    print('Deltas/Sell 1 Best of Call:', -delta_boc)\n",
    "    print('Deltas/Buy 1 KI:', delta_KI)\n",
    "    print('Deltas/Entire Structure:', delta_tot)\n",
    "    return structure"
   ]
  },
  {
   "cell_type": "code",
   "execution_count": 18,
   "metadata": {},
   "outputs": [
    {
     "name": "stdout",
     "output_type": "stream",
     "text": [
      "Put Strikes: [31.5  10.05 22.  ]\n",
      "Shares: [-0.4  -5.7  -1.83]\n",
      "Loss: 0.5258624523932963\n",
      "|X/ADV|: [[0.61637967 0.58181681 0.61147152]]\n",
      "Price Slippage [[1.28289008 0.40000316 0.80785036]]\n",
      "Pct Price Slippage (BPs) [[377.32061121 266.66877014 323.14014377]]\n",
      "Dollar Slippage 0.7097265454397614\n",
      "Dollar Premium 0.8\n",
      "Locked-in Capital: 100.66495040169944\n",
      "Deltas/Sell x Collar: [[0.25042389 0.92944768 1.11400897]]\n",
      "Deltas/Sell 1 Best of Call: [[-0.07966655 -0.45089035 -0.48094497]]\n",
      "Deltas/Buy 1 KI: [[-0.03700295 -0.12364908 -0.14266383]]\n",
      "Deltas/Entire Structure: [[0.13375439 0.35490825 0.49040016]]\n",
      "----------------------------------------------\n",
      "Zero Cost Collar:\n",
      "+ MultiAssetsAsianPut: K=[31.500, 10.050, 22.000], T=2\n",
      "- MultiAssetsAsianCall: K=[40.187, 26.157, 31.566], T=2\n",
      "MultiAssetsBestOfAsianCall: K=[40.187, 26.157, 31.566], R_required=0.05, T_entry=1, T_mature=2\n",
      "MultiAssetsWorstOfDiscreteKIEuropeanPut: K=[30.530, 6.670, 17.738], H=[28.530, 5.170, 15.938], T_entry=1, T_mature=2\n"
     ]
    }
   ],
   "source": [
    "Kput = np.array([31.5, 10.05, 22])\n",
    "D = np.array([2, 1.5, 1.8])\n",
    "x = np.array([-0.4, -5.7, -1.83])\n",
    "R = 0.05\n",
    "p = markup = (np.array([0.0, 0.0, 0.0]), 0.8)\n",
    "\n",
    "\n",
    "structure = metric(Kput, D, x, R, p)\n",
    "print('----------------------------------------------')\n",
    "for name, obj in structure.items():\n",
    "    print(repr(obj))"
   ]
  },
  {
   "cell_type": "code",
   "execution_count": 37,
   "metadata": {
    "collapsed": true
   },
   "outputs": [],
   "source": [
    "s_0 = np.array([34, 15, 25])\n",
    "adv = data.adv.unique() / 1e6\n",
    "markup = (np.array([0.1, 0.1, 0.1]), 0.0)\n",
    "\n",
    "def metric_eu(K, D, x, R, p):\n",
    "    loss, structure, pct_adv, cap, deltas, slip = structure_constructor_best_eu(\n",
    "        model=mv_hes, x=x, put_Ks=K, Ds=D, R_req=R, adv=adv, \n",
    "        adv_thres=0.3, S0=s_0, cap_required=100, alpha=0.1, pre_computed_paths=paths, \n",
    "        premiums=p)\n",
    "    delta_collar, delta_boc, delta_KI = deltas\n",
    "    delta_tot = delta_collar-delta_boc+delta_KI\n",
    "    # print(structure)\n",
    "    print('Put Strikes:', K)\n",
    "    print('Shares:', x)\n",
    "    print('Loss:', loss)\n",
    "    print('|X/ADV|:', np.abs(pct_adv))\n",
    "    print('Price Slippage', slip)\n",
    "    print('Pct Price Slippage (BPs)', (slip/s_0)*1e4)\n",
    "    print('Dollar Slippage', slip.dot(delta_tot.reshape(3,))[0])\n",
    "    print('Dollar Premium', -markup[0].dot(x)+markup[1])\n",
    "    print('Locked-in Capital:', cap)\n",
    "    print('Deltas/Sell x Collar:', delta_collar)\n",
    "    print('Deltas/Sell 1 Best of Call:', -delta_boc)\n",
    "    print('Deltas/Buy 1 KI:', delta_KI)\n",
    "    print('Deltas/Entire Structure:', delta_tot)\n",
    "    return structure"
   ]
  },
  {
   "cell_type": "code",
   "execution_count": 39,
   "metadata": {},
   "outputs": [
    {
     "name": "stdout",
     "output_type": "stream",
     "text": [
      "Put Strikes: [30.5 12.5 21.5]\n",
      "Shares: [-0.25 -3.7  -2.83]\n",
      "Loss: 1.1328659296490973\n",
      "|X/ADV|: [[0.32239506 1.28690232 0.85579446]]\n",
      "Price Slippage [[0.34131967 0.74854352 1.07914265]]\n",
      "Pct Price Slippage (BPs) [[100.38813811 499.0290129  431.65705877]]\n",
      "Dollar Slippage 1.352159578558818\n",
      "Dollar Premium 0.8\n",
      "Locked-in Capital: 104.8461855743153\n",
      "Deltas/Sell x Collar: [[0.13780072 1.7012646  1.60782766]]\n",
      "Deltas/Sell 1 Best of Call: [[-0.04540168 -0.70526729 -0.71267078]]\n",
      "Deltas/Buy 1 KI: [[-0.02243931 -0.21098689 -0.20880972]]\n",
      "Deltas/Entire Structure: [[0.06995973 0.78501042 0.68634716]]\n",
      "----------------------------------------------\n",
      "Zero Cost Collar:\n",
      "+ MultiAssetsAsianPut: K=[30.500, 12.500, 21.500], T=2\n",
      "- MultiAssetsAsianCall: K=[41.459, 20.673, 32.345], T=2\n",
      "MultiAssetsBestOfAsianCall: K=[41.459, 20.673, 32.345], R_required=0.05, T_entry=1, T_mature=2\n",
      "MultiAssetsWorstOfDiscreteKIEuropeanPut: K=[30.116, 9.750, 17.150], H=[28.116, 8.250, 15.350], T_entry=1, T_mature=2\n"
     ]
    }
   ],
   "source": [
    "Kput = np.array([30.5, 12.5, 21.5])\n",
    "D = np.array([2, 1.5, 1.8])\n",
    "x = np.array([-0.25, -3.7, -2.83])\n",
    "R = 0.05\n",
    "p = markup = (np.array([0.0, 0.0, 0.0]), 0.8)\n",
    "\n",
    "\n",
    "structure = metric(Kput, D, x, R, p)\n",
    "print('----------------------------------------------')\n",
    "for name, obj in structure.items():\n",
    "    print(repr(obj))"
   ]
  },
  {
   "cell_type": "code",
   "execution_count": 47,
   "metadata": {},
   "outputs": [
    {
     "name": "stdout",
     "output_type": "stream",
     "text": [
      "----------------------------------------------\n",
      "Zero Cost Collar:\n",
      "+ MultiAssetsAsianPut: K=[30.500, 12.500, 21.300], T=2\n",
      "- MultiAssetsAsianCall: K=[41.459, 20.673, 32.661], T=2\n",
      "MultiAssetsBestOfEuropeanCall: K=[41.459, 20.673, 32.661], R_required=0.05, T_entry=1, T_mature=2\n",
      "MultiAssetsWorstOfDiscreteKIEuropeanPut: K=[30.963, 15.764, 26.279], H=[28.963, 14.264, 24.479], T_entry=1, T_mature=2\n"
     ]
    }
   ],
   "source": [
    "Kput = np.array([30.5, 12.5, 21.3])\n",
    "D = np.array([2, 1.5, 1.8])\n",
    "x = np.array([-0.25, -3.7, -2.8])\n",
    "R = 0.05\n",
    "p = markup = (np.array([0.0, 0.0, 0.0]), 0.8)\n",
    "\n",
    "\n",
    "#structure = metric_eu(Kput, D, x, R, p)\n",
    "print('----------------------------------------------')\n",
    "for name, obj in structure.items():\n",
    "    print(repr(obj))"
   ]
  },
  {
   "cell_type": "code",
   "execution_count": null,
   "metadata": {
    "collapsed": true
   },
   "outputs": [],
   "source": [
    "Kput = np.array([30.5, 12.5, 21.3])\n",
    "D = np.array([2, 1.5, 1.8])\n",
    "x = np.array([-0.25, -3.7, -2.8])\n",
    "R = 0.05\n",
    "p = markup = (np.array([0.0, 0.0, 0.0]), 0.8)\n",
    "\n",
    "\n",
    "structure = metric_eu(Kput, D, x, R, p)\n",
    "print('----------------------------------------------')\n",
    "for name, obj in structure.items():\n",
    "    print(repr(obj))"
   ]
  },
  {
   "cell_type": "code",
   "execution_count": 65,
   "metadata": {},
   "outputs": [
    {
     "data": {
      "text/plain": [
       "array([30.6 , 31.28, 31.96, 32.64, 33.32, 34.  , 34.68, 35.36, 36.04,\n",
       "       36.72, 37.4 ])"
      ]
     },
     "execution_count": 65,
     "metadata": {},
     "output_type": "execute_result"
    }
   ],
   "source": [
    "np.linspace(34*0.9, 34*1.1, 11)"
   ]
  },
  {
   "cell_type": "code",
   "execution_count": 48,
   "metadata": {},
   "outputs": [
    {
     "name": "stdout",
     "output_type": "stream",
     "text": [
      "------------------------------------------\n",
      "Zero Cost Collar:\n",
      "+ MultiAssetsAsianPut: K=[30.500, 12.500, 21.300], T=2\n",
      "- MultiAssetsAsianCall: K=[41.459, 20.673, 32.661], T=2\n",
      "Price: [ 0.00082412 -0.02946164  0.10251764]\n",
      "(SE) [0.18338043 0.09680232 0.20181725]\n",
      "Delta [[ 0.53648757 -0.         -0.        ]\n",
      " [-0.          0.46165104 -0.        ]\n",
      " [-0.         -0.          0.58946423]]\n",
      "------------------------------------------\n",
      "MultiAssetsBestOfEuropeanCall: K=[41.459, 20.673, 32.661], R_required=0.05, T_entry=1, T_mature=2\n",
      "Price: -17.166322997434683\n",
      "(SE) 1.2350381284434693\n",
      "Delta [[-0.05664869 -1.13157508 -0.91908572]]\n",
      "------------------------------------------\n",
      "MultiAssetsWorstOfDiscreteKIEuropeanPut: K=[30.963, 15.764, 26.279], H=[28.963, 14.264, 24.479], T_entry=1, T_mature=2\n",
      "Price: 18.39405681745416\n",
      "(SE) 0.6772402658269178\n",
      "Delta [[-0.01851877 -0.44895457 -0.38774279]]\n",
      "------------------------------------------\n"
     ]
    }
   ],
   "source": [
    "SSc, SSf, SSb, XXc, XXf, XXb, VV = paths\n",
    "paths_c = (SSc, XXc, VV)\n",
    "direction = [-1, -1, 1]\n",
    "print('------------------------------------------')\n",
    "for i, (k, obj) in enumerate(structure.items()):\n",
    "    print(repr(obj))\n",
    "    px, se = obj.mc_price(spots=s_0, pre_computed_paths=paths_c)\n",
    "    delta = obj.mc_delta(spots=s_0, dS=1e-4, pre_computed_paths=paths)\n",
    "    print('Price:', px*direction[i])\n",
    "    print('(SE)', se)\n",
    "    print('Delta', delta*direction[i])\n",
    "    print('------------------------------------------')"
   ]
  },
  {
   "cell_type": "code",
   "execution_count": 50,
   "metadata": {},
   "outputs": [
    {
     "data": {
      "text/plain": [
       "array([-0.27167941, -0.20914623, -0.42851787])"
      ]
     },
     "execution_count": 50,
     "metadata": {},
     "output_type": "execute_result"
    }
   ],
   "source": [
    "d1 = np.array([0.53648757,0.46165104,0.58946423])\n",
    "d2 = np.array([-0.05664869, -1.13157508, -0.91908572])\n",
    "d3 = np.array([-0.01851877, -0.44895457, -0.38774279])\n",
    "x = np.array([-0.25, -3.7, -2.8])\n",
    "(x*d1 - d2 -d3) / adv"
   ]
  },
  {
   "cell_type": "code",
   "execution_count": 62,
   "metadata": {
    "collapsed": true
   },
   "outputs": [],
   "source": [
    "dW = np.random.multivariate_normal(np.array(\n",
    "            [0] * (2 * 3)), mv_hes.cov, (52,1000))"
   ]
  },
  {
   "cell_type": "code",
   "execution_count": 63,
   "metadata": {},
   "outputs": [
    {
     "data": {
      "text/plain": [
       "(52, 1000, 6)"
      ]
     },
     "execution_count": 63,
     "metadata": {},
     "output_type": "execute_result"
    }
   ],
   "source": [
    "dW.shape"
   ]
  },
  {
   "cell_type": "code",
   "execution_count": null,
   "metadata": {
    "collapsed": true
   },
   "outputs": [],
   "source": []
  }
 ],
 "metadata": {
  "kernelspec": {
   "display_name": "Python 3",
   "language": "python",
   "name": "python3"
  },
  "language_info": {
   "codemirror_mode": {
    "name": "ipython",
    "version": 3
   },
   "file_extension": ".py",
   "mimetype": "text/x-python",
   "name": "python",
   "nbconvert_exporter": "python",
   "pygments_lexer": "ipython3",
   "version": "3.6.4"
  }
 },
 "nbformat": 4,
 "nbformat_minor": 2
}
