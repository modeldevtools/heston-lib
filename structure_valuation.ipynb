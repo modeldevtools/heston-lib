{
 "cells": [
  {
   "cell_type": "code",
   "execution_count": 2,
   "metadata": {
    "collapsed": true
   },
   "outputs": [],
   "source": [
    "import numpy as np\n",
    "import pandas as pd\n",
    "import matplotlib.pyplot as plt\n",
    "from mpl_toolkits.mplot3d import Axes3D\n",
    "from matplotlib import cm\n",
    "from scipy.optimize import least_squares\n",
    "%matplotlib inline\n",
    "\n",
    "from heston import UnivariateHestonSV, MultivariateHestonSV\n",
    "from heston import make_surface\n",
    "from heston import MultiAssetsOption, MultiAssetsAsianPut, MultiAssetsAsianCall\n",
    "from heston import MultiAssetsDiscreteKIEuropeanPut, MultiAssetsAsianZeroCostCollar\n",
    "from heston import MultiAssetsBestOfAsianCall, MultiAssetsWorstOfDiscreteKIEuropeanPut\n",
    "from heston import structure_constructor, structure_constructor_best_eu"
   ]
  },
  {
   "cell_type": "code",
   "execution_count": 70,
   "metadata": {},
   "outputs": [
    {
     "data": {
      "text/html": [
       "<div>\n",
       "<style>\n",
       "    .dataframe thead tr:only-child th {\n",
       "        text-align: right;\n",
       "    }\n",
       "\n",
       "    .dataframe thead th {\n",
       "        text-align: left;\n",
       "    }\n",
       "\n",
       "    .dataframe tbody tr th {\n",
       "        vertical-align: top;\n",
       "    }\n",
       "</style>\n",
       "<table border=\"1\" class=\"dataframe\">\n",
       "  <thead>\n",
       "    <tr style=\"text-align: right;\">\n",
       "      <th></th>\n",
       "      <th>corp</th>\n",
       "      <th>strike</th>\n",
       "      <th>mat</th>\n",
       "      <th>iv</th>\n",
       "      <th>S0</th>\n",
       "      <th>adv</th>\n",
       "      <th>tot_shr</th>\n",
       "      <th>owned_shr</th>\n",
       "      <th>avg_buy_px</th>\n",
       "      <th>bs_px</th>\n",
       "    </tr>\n",
       "  </thead>\n",
       "  <tbody>\n",
       "    <tr>\n",
       "      <th>0</th>\n",
       "      <td>Green Co.</td>\n",
       "      <td>30</td>\n",
       "      <td>0.083333</td>\n",
       "      <td>NaN</td>\n",
       "      <td>34</td>\n",
       "      <td>217000</td>\n",
       "      <td>30</td>\n",
       "      <td>4.25</td>\n",
       "      <td>31.5</td>\n",
       "      <td>NaN</td>\n",
       "    </tr>\n",
       "    <tr>\n",
       "      <th>1</th>\n",
       "      <td>Green Co.</td>\n",
       "      <td>30</td>\n",
       "      <td>0.250000</td>\n",
       "      <td>0.3747</td>\n",
       "      <td>34</td>\n",
       "      <td>217000</td>\n",
       "      <td>30</td>\n",
       "      <td>4.25</td>\n",
       "      <td>31.5</td>\n",
       "      <td>5.143945</td>\n",
       "    </tr>\n",
       "    <tr>\n",
       "      <th>2</th>\n",
       "      <td>Green Co.</td>\n",
       "      <td>30</td>\n",
       "      <td>0.500000</td>\n",
       "      <td>0.3686</td>\n",
       "      <td>34</td>\n",
       "      <td>217000</td>\n",
       "      <td>30</td>\n",
       "      <td>4.25</td>\n",
       "      <td>31.5</td>\n",
       "      <td>6.126322</td>\n",
       "    </tr>\n",
       "    <tr>\n",
       "      <th>3</th>\n",
       "      <td>Green Co.</td>\n",
       "      <td>35</td>\n",
       "      <td>0.083333</td>\n",
       "      <td>0.4211</td>\n",
       "      <td>34</td>\n",
       "      <td>217000</td>\n",
       "      <td>30</td>\n",
       "      <td>4.25</td>\n",
       "      <td>31.5</td>\n",
       "      <td>1.270197</td>\n",
       "    </tr>\n",
       "    <tr>\n",
       "      <th>4</th>\n",
       "      <td>Green Co.</td>\n",
       "      <td>35</td>\n",
       "      <td>0.250000</td>\n",
       "      <td>0.3418</td>\n",
       "      <td>34</td>\n",
       "      <td>217000</td>\n",
       "      <td>30</td>\n",
       "      <td>4.25</td>\n",
       "      <td>31.5</td>\n",
       "      <td>2.044304</td>\n",
       "    </tr>\n",
       "  </tbody>\n",
       "</table>\n",
       "</div>"
      ],
      "text/plain": [
       "        corp  strike       mat      iv  S0     adv  tot_shr  owned_shr  \\\n",
       "0  Green Co.      30  0.083333     NaN  34  217000       30       4.25   \n",
       "1  Green Co.      30  0.250000  0.3747  34  217000       30       4.25   \n",
       "2  Green Co.      30  0.500000  0.3686  34  217000       30       4.25   \n",
       "3  Green Co.      35  0.083333  0.4211  34  217000       30       4.25   \n",
       "4  Green Co.      35  0.250000  0.3418  34  217000       30       4.25   \n",
       "\n",
       "   avg_buy_px     bs_px  \n",
       "0        31.5       NaN  \n",
       "1        31.5  5.143945  \n",
       "2        31.5  6.126322  \n",
       "3        31.5  1.270197  \n",
       "4        31.5  2.044304  "
      ]
     },
     "execution_count": 70,
     "metadata": {},
     "output_type": "execute_result"
    }
   ],
   "source": [
    "data = pd.read_excel('data/equities.xlsx', index_col=0)\n",
    "assets = data.corp.unique()\n",
    "data.head()"
   ]
  },
  {
   "cell_type": "markdown",
   "metadata": {},
   "source": [
    "## Calibration"
   ]
  },
  {
   "cell_type": "code",
   "execution_count": 3,
   "metadata": {},
   "outputs": [
    {
     "name": "stdout",
     "output_type": "stream",
     "text": [
      "   Iteration     Total nfev        Cost      Cost reduction    Step norm     Optimality   \n",
      "       0              1         1.6504e+00                                    2.35e+02    \n",
      "       1              2         3.6815e-01      1.28e+00       3.80e-01       2.28e+01    \n",
      "       2              3         1.1837e-01      2.50e-01       4.33e-01       3.68e-01    \n",
      "       3              4         5.7879e-02      6.05e-02       3.17e-01       5.96e-01    \n",
      "       4              5         4.2593e-02      1.53e-02       1.13e-01       7.41e-02    \n",
      "       5              6         3.9224e-02      3.37e-03       2.19e-01       5.60e-01    \n",
      "       6              7         2.8398e-02      1.08e-02       3.53e+00       4.82e-02    \n",
      "       7              8         2.4080e-02      4.32e-03       2.64e+00       1.48e-02    \n",
      "       8              9         1.9916e-02      4.16e-03       2.59e+00       3.43e-02    \n",
      "       9             10         1.7406e-02      2.51e-03       2.98e+00       1.82e-02    \n",
      "      10             11         1.6699e-02      7.07e-04       1.92e-02       2.19e-03    \n",
      "      11             12         1.6663e-02      3.64e-05       1.27e-01       1.34e-04    \n",
      "      12             13         1.6662e-02      3.86e-07       3.73e-02       2.90e-04    \n",
      "`ftol` termination condition is satisfied.\n",
      "Function evaluations 13, initial cost 1.6504e+00, final cost 1.6662e-02, first-order optimality 2.90e-04.\n",
      "   Iteration     Total nfev        Cost      Cost reduction    Step norm     Optimality   \n",
      "       0              1         3.4434e-01                                    4.27e+01    \n",
      "       1              2         3.9102e-02      3.05e-01       1.02e+00       5.38e+00    \n",
      "       2              3         8.3490e-03      3.08e-02       3.01e-01       2.52e-01    \n",
      "       3              5         2.1981e-03      6.15e-03       8.16e-02       5.82e-02    \n",
      "       4              7         1.4421e-03      7.56e-04       8.39e-02       4.03e-02    \n",
      "       5              8         1.2593e-03      1.83e-04       4.03e-01       1.08e-01    \n",
      "       6              9         1.0804e-03      1.79e-04       2.07e-01       3.53e-04    \n",
      "       7             10         9.8759e-04      9.28e-05       1.41e-01       4.13e-03    \n",
      "       8             11         9.2729e-04      6.03e-05       2.57e-01       3.83e-03    \n",
      "       9             14         9.1438e-04      1.29e-05       1.74e-01       8.16e-03    \n",
      "      10             15         9.0458e-04      9.80e-06       3.20e-01       5.39e-02    \n",
      "      11             16         8.8764e-04      1.69e-05       2.64e-01       6.29e-02    \n",
      "      12             17         8.7398e-04      1.37e-05       2.33e-01       7.81e-02    \n",
      "      13             18         8.5993e-04      1.40e-05       1.93e-01       8.41e-02    \n",
      "      14             19         8.4711e-04      1.28e-05       1.56e-01       8.38e-02    \n",
      "      15             20         8.3618e-04      1.09e-05       1.27e-01       8.01e-02    \n",
      "      16             21         8.2706e-04      9.12e-06       1.05e-01       7.52e-02    \n",
      "      17             22         8.1944e-04      7.62e-06       8.75e-02       6.99e-02    \n",
      "      18             23         8.1301e-04      6.43e-06       7.42e-02       6.48e-02    \n",
      "      19             24         8.0753e-04      5.48e-06       6.38e-02       6.02e-02    \n",
      "      20             25         8.0291e-04      4.62e-06       8.48e-02       1.30e-01    \n",
      "      21             26         7.9273e-04      1.02e-05       3.47e-02       2.58e-02    \n",
      "      22             28         7.9156e-04      1.17e-06       5.78e-02       9.03e-02    \n",
      "      23             29         7.8780e-04      3.75e-06       2.93e-02       2.81e-02    \n",
      "      24             31         7.8667e-04      1.14e-06       2.32e-02       1.91e-02    \n",
      "      25             32         7.8569e-04      9.75e-07       4.51e-02       7.91e-02    \n",
      "      26             33         7.8331e-04      2.38e-06       2.51e-02       2.77e-02    \n",
      "      27             35         7.8253e-04      7.80e-07       1.90e-02       1.69e-02    \n",
      "`ftol` termination condition is satisfied.\n",
      "Function evaluations 35, initial cost 3.4434e-01, final cost 7.8253e-04, first-order optimality 1.69e-02.\n",
      "   Iteration     Total nfev        Cost      Cost reduction    Step norm     Optimality   \n",
      "       0              1         2.4119e+00                                    2.25e+02    \n",
      "       1              2         3.2991e-01      2.08e+00       1.53e+00       3.51e+01    \n",
      "       2              3         6.2579e-02      2.67e-01       9.27e-01       5.16e+00    \n",
      "       3              4         2.3606e-02      3.90e-02       1.02e+00       2.73e+00    \n",
      "       4              5         6.5545e-03      1.71e-02       1.31e+00       8.75e-01    \n",
      "       5              6         1.2743e-03      5.28e-03       9.67e-01       1.78e-01    \n",
      "       6              7         4.1083e-04      8.63e-04       8.83e-01       8.15e-03    \n",
      "       7              9         2.7953e-04      1.31e-04       9.18e-01       6.13e-02    \n",
      "       8             11         2.0822e-04      7.13e-05       4.55e-01       3.31e-02    \n",
      "       9             13         1.7836e-04      2.99e-05       2.24e-01       6.13e-03    \n",
      "      10             14         1.4450e-04      3.39e-05       4.34e-01       5.25e-02    \n",
      "      11             16         1.1815e-04      2.64e-05       2.08e-01       1.50e-02    \n",
      "      12             17         9.8089e-05      2.01e-05       3.89e-01       7.88e-02    \n",
      "      13             18         7.1980e-05      2.61e-05       3.25e-01       8.21e-02    \n",
      "      14             19         4.9845e-05      2.21e-05       2.61e-01       6.98e-02    \n",
      "      15             20         3.4473e-05      1.54e-05       3.03e-01       8.65e-02    \n",
      "      16             21         2.1632e-05      1.28e-05       1.62e-01       5.63e-02    \n",
      "      17             22         1.8214e-05      3.42e-06       3.74e-02       2.51e-02    \n",
      "      18             23         1.7485e-05      7.29e-07       1.07e-01       3.37e-02    \n",
      "      19             24         1.6739e-05      7.45e-07       1.20e-03       1.05e-04    \n",
      "      20             25         1.6682e-05      5.76e-08       3.80e-02       4.70e-03    \n",
      "      21             26         1.6666e-05      1.59e-08       1.49e-03       6.52e-04    \n",
      "`ftol` termination condition is satisfied.\n",
      "Function evaluations 26, initial cost 2.4119e+00, final cost 1.6666e-05, first-order optimality 6.52e-04.\n"
     ]
    }
   ],
   "source": [
    "# Use this script if you want to re-calibrate multivariate heston model\n",
    "assets = data.corp.unique()\n",
    "mv_hes = MultivariateHestonSV(assets)\n",
    "fit_res = mv_hes.calibrate(\n",
    "    data, px=[34,15,25], r=[0.045]*3,\n",
    "    cov_s=np.array([\n",
    "        [1, 0.3, 0.3],\n",
    "        [0.3, 1, 0.3],\n",
    "        [0.3, 0.3, 1]\n",
    "    ])\n",
    ")"
   ]
  },
  {
   "cell_type": "markdown",
   "metadata": {},
   "source": [
    "## Load Pre-Calibrated Model"
   ]
  },
  {
   "cell_type": "code",
   "execution_count": 3,
   "metadata": {
    "collapsed": true
   },
   "outputs": [],
   "source": [
    "assets = data.corp.unique()\n",
    "mv_hes = MultivariateHestonSV(assets)\n",
    "mv_hes.set_params(\n",
    "    {\n",
    "        # parameters list: ['kappa', 'v0', 'theta', 'eta', 'rho_sv']\n",
    "        assets[0]: [12.22153077,  0.19999999,  0.10679624,  1.11942453, -0.79999979],\n",
    "        assets[1]: [ 0.69115605,  0.11214887,  0.4196924 ,  0.19383575, -0.79890507],\n",
    "        assets[2]: [ 2.0236936 ,  0.14899818,  0.30447942,  0.4452153 , -0.79999991],\n",
    "        # risk free rate\n",
    "        'r': 0.045,\n",
    "        # stock covariance matrix\n",
    "        'cov_s': np.array([\n",
    "            [1, 0.3, 0.3],\n",
    "            [0.3, 1, 0.3],\n",
    "            [0.3, 0.3, 1]\n",
    "        ])\n",
    "    }\n",
    ")"
   ]
  },
  {
   "cell_type": "markdown",
   "metadata": {},
   "source": []
  },
  {
   "cell_type": "code",
   "execution_count": null,
   "metadata": {
    "collapsed": true
   },
   "outputs": [],
   "source": []
  },
  {
   "cell_type": "markdown",
   "metadata": {},
   "source": [
    "## Valuations of 0-Cost-Collar (w/ Different Ks)"
   ]
  },
  {
   "cell_type": "code",
   "execution_count": 7,
   "metadata": {},
   "outputs": [
    {
     "name": "stdout",
     "output_type": "stream",
     "text": [
      "------------------------ Structure 0 ------------------------\n",
      "------------------------ Structure 1 ------------------------\n",
      "------------------------ Structure 2 ------------------------\n"
     ]
    }
   ],
   "source": [
    "s_0 = np.array([34, 15, 25]) # time-0 stock price\n",
    "re_eval = False # change to True if you want to evaluate everything again.\n",
    "\n",
    "# client input, different put strikes\n",
    "# (i.e. the payoff the client wants to lock-in upon maturity)\n",
    "put_strike_terms = [\n",
    "    np.array([32, 13, 24]),\n",
    "    np.array([30, 12, 22]),\n",
    "    np.array([28, 11, 20])\n",
    "]\n",
    "\n",
    "if not re_eval:\n",
    "    call_strike_terms = [\n",
    "        np.array([39.572, 20.113, 29.174]),\n",
    "        np.array([42.705, 21.594, 32.053]),\n",
    "        np.array([45.266, 24.261, 35.242])\n",
    "    ]\n",
    "else:\n",
    "    call_strike_terms = [None, None, None]\n",
    "\n",
    "collars = []\n",
    "for i, ks in enumerate(put_strike_terms):\n",
    "    # call strikes are solved by least squares\n",
    "    print(f'------------------------ Structure {i} ------------------------')\n",
    "    zero_collar = MultiAssetsAsianZeroCostCollar(\n",
    "        mv_hes, spots=s_0, put_Ks=ks, call_Ks=call_strike_terms[i], T=2)\n",
    "    collars.append(zero_collar)"
   ]
  },
  {
   "cell_type": "code",
   "execution_count": 6,
   "metadata": {},
   "outputs": [
    {
     "name": "stdout",
     "output_type": "stream",
     "text": [
      "------------------------ Structure 0 ------------------------\n",
      "Zero Cost Collar:\n",
      "+ MultiAssetsAsianPut: K=32.000, 13.000, 24.000, T=2\n",
      "- MultiAssetsAsianCall: K=39.572, 20.113, 29.174, T=2 \n",
      "\n",
      "Simulating paths...\n"
     ]
    },
    {
     "name": "stderr",
     "output_type": "stream",
     "text": [
      "100% (3000 of 3000) |#####################| Elapsed Time: 0:00:07 Time: 0:00:07\n"
     ]
    },
    {
     "name": "stdout",
     "output_type": "stream",
     "text": [
      "Simulating paths...\n"
     ]
    },
    {
     "name": "stderr",
     "output_type": "stream",
     "text": [
      "100% (3000 of 3000) |#####################| Elapsed Time: 0:00:15 Time: 0:00:15\n"
     ]
    },
    {
     "name": "stdout",
     "output_type": "stream",
     "text": [
      "Structure Price: [-0.00820493  0.0236197  -0.32928955]\n",
      "(SE): [0.1278145  0.06078583 0.15767932]\n",
      "Structure Delta: [-0.72930874 -0.55808233 -0.84223223]\n",
      "------------------------ Structure 1 ------------------------\n",
      "Zero Cost Collar:\n",
      "+ MultiAssetsAsianPut: K=30.000, 12.000, 22.000, T=2\n",
      "- MultiAssetsAsianCall: K=42.705, 21.594, 32.053, T=2 \n",
      "\n",
      "Simulating paths...\n"
     ]
    },
    {
     "name": "stderr",
     "output_type": "stream",
     "text": [
      "100% (3000 of 3000) |#####################| Elapsed Time: 0:00:07 Time: 0:00:07\n",
      "  1% (38 of 3000) |                       | Elapsed Time: 0:00:00 ETA:  0:00:15"
     ]
    },
    {
     "name": "stdout",
     "output_type": "stream",
     "text": [
      "Simulating paths...\n"
     ]
    },
    {
     "name": "stderr",
     "output_type": "stream",
     "text": [
      "100% (3000 of 3000) |#####################| Elapsed Time: 0:00:14 Time: 0:00:14\n"
     ]
    },
    {
     "name": "stdout",
     "output_type": "stream",
     "text": [
      "Structure Price: [ 0.10983103  0.00068597 -0.2170945 ]\n",
      "(SE): [0.10006279 0.05069604 0.1253033 ]\n",
      "Structure Delta: [-0.54920707 -0.42675758 -0.65201799]\n",
      "------------------------ Structure 2 ------------------------\n",
      "Zero Cost Collar:\n",
      "+ MultiAssetsAsianPut: K=28.000, 11.000, 20.000, T=2\n",
      "- MultiAssetsAsianCall: K=45.266, 24.261, 35.242, T=2 \n",
      "\n",
      "Simulating paths...\n"
     ]
    },
    {
     "name": "stderr",
     "output_type": "stream",
     "text": [
      "100% (3000 of 3000) |#####################| Elapsed Time: 0:00:07 Time: 0:00:07\n",
      "  0% (19 of 3000) |                       | Elapsed Time: 0:00:00 ETA:  0:00:15"
     ]
    },
    {
     "name": "stdout",
     "output_type": "stream",
     "text": [
      "Simulating paths...\n"
     ]
    },
    {
     "name": "stderr",
     "output_type": "stream",
     "text": [
      "100% (3000 of 3000) |#####################| Elapsed Time: 0:00:14 Time: 0:00:14\n"
     ]
    },
    {
     "name": "stdout",
     "output_type": "stream",
     "text": [
      "Structure Price: [0.09595555 0.04868959 0.13340748]\n",
      "(SE): [0.07746059 0.03564338 0.08870669]\n",
      "Structure Delta: [-0.38366837 -0.28654886 -0.47684096]\n"
     ]
    }
   ],
   "source": [
    "# view the structure\n",
    "import time\n",
    "for i, structure in enumerate(collars):\n",
    "    print(f'------------------------ Structure {i} ------------------------')\n",
    "    print(repr(structure), '\\n')\n",
    "    px, se = structure.mc_price(spots=s_0, n_paths=3000)\n",
    "    delta = structure.mc_delta(spots=s_0, n_paths=3000)\n",
    "    print('Structure Price:', px)\n",
    "    print('(SE):', se)\n",
    "    print('Structure Delta:', delta, '\\n')"
   ]
  },
  {
   "cell_type": "markdown",
   "metadata": {},
   "source": [
    "## Valuation of Best-of-Call"
   ]
  },
  {
   "cell_type": "code",
   "execution_count": 5,
   "metadata": {},
   "outputs": [
    {
     "name": "stdout",
     "output_type": "stream",
     "text": [
      "Solving barriers...\n",
      "Simulating paths...\n"
     ]
    },
    {
     "name": "stderr",
     "output_type": "stream",
     "text": [
      "100% (3000 of 3000) |#####################| Elapsed Time: 0:00:48 Time: 0:00:48\n"
     ]
    },
    {
     "name": "stdout",
     "output_type": "stream",
     "text": [
      "   Iteration     Total nfev        Cost      Cost reduction    Step norm     Optimality   \n",
      "       0              1         2.3107e+00                                    1.33e+01    \n",
      "       1              2         4.7308e-02      2.26e+00       5.44e+00       1.34e+00    \n",
      "       2              3         7.4084e-05      4.72e-02       1.08e+00       1.26e-02    \n",
      "       3              4         2.9746e-06      7.11e-05       4.63e-02       9.77e-03    \n",
      "       4              5         5.1895e-07      2.46e-06       9.27e-03       1.04e-03    \n",
      "       5              7         2.9203e-07      2.27e-07       9.74e-04       7.82e-04    \n",
      "       6              8         3.2567e-08      2.59e-07       1.95e-03       2.61e-04    \n",
      "       7             11         1.8355e-08      1.42e-08       2.43e-04       1.96e-04    \n",
      "       8             13         1.2766e-08      5.59e-09       1.22e-04       1.64e-04    \n",
      "       9             15         1.0351e-08      2.41e-09       6.08e-05       1.69e+00    \n",
      "      10             19         1.0297e-08      5.46e-11       2.00e-06       1.68e+00    \n",
      "      11             21         1.0297e-08      0.00e+00       0.00e+00       1.68e+00    \n",
      "`xtol` termination condition is satisfied.\n",
      "Function evaluations 21, initial cost 2.3107e+00, final cost 1.0297e-08, first-order optimality 1.68e+00.\n"
     ]
    }
   ],
   "source": [
    "boc = MultiAssetsBestOfAsianCall(\n",
    "        mv_hes, collars[0], \n",
    "        T_entry=1, \n",
    "        T_mature=2, \n",
    "        S_init=s_0, \n",
    "        required_return=0.045)\n",
    "\n",
    "woKI = MultiAssetsWorstOfDiscreteKIEuropeanPut(\n",
    "        mv_hes, collars[0], boc, s_0,\n",
    "        T_entry=1, \n",
    "        T_mature=2, \n",
    "        n_paths=3000,\n",
    "    )"
   ]
  },
  {
   "cell_type": "code",
   "execution_count": 6,
   "metadata": {},
   "outputs": [
    {
     "data": {
      "text/plain": [
       "MultiAssetsWorstOfDiscreteKIEuropeanPut: K=[28.199, 11.099, 19.111], H=[23.199, 6.099, 14.111], T_entry=1, T_mature=2"
      ]
     },
     "execution_count": 6,
     "metadata": {},
     "output_type": "execute_result"
    }
   ],
   "source": [
    "woKI"
   ]
  },
  {
   "cell_type": "markdown",
   "metadata": {},
   "source": [
    "## The Entire Structure - An Example"
   ]
  },
  {
   "cell_type": "code",
   "execution_count": 4,
   "metadata": {},
   "outputs": [
    {
     "name": "stderr",
     "output_type": "stream",
     "text": [
      "100% (5000 of 5000) |#####################| Elapsed Time: 0:03:54 Time: 0:03:54\n"
     ]
    }
   ],
   "source": [
    "s_0 = np.array([34, 15, 25]) # time-0 stock price\n",
    "# use pre-computed paths to speed things up\n",
    "n = 5000\n",
    "paths = mv_hes.simulate_paths_cfb(\n",
    "    n_paths=n, n_nodes=252, T=2, dS=1e-4, S0=s_0)"
   ]
  },
  {
   "cell_type": "code",
   "execution_count": 13,
   "metadata": {
    "collapsed": true
   },
   "outputs": [],
   "source": [
    "SSc, SSf, SSb, XXc, XXf, XXb, VV = paths\n",
    "paths_c = (SSc, XXc, VV)\n",
    "paths_f = (SSf, XXf, VV)\n",
    "paths_b = (SSb, XXb, VV)\n",
    "disc_factor = np.exp(-0.045*2)"
   ]
  },
  {
   "cell_type": "code",
   "execution_count": 8,
   "metadata": {},
   "outputs": [
    {
     "name": "stdout",
     "output_type": "stream",
     "text": [
      "Solving call strikes...\n",
      "   Iteration     Total nfev        Cost      Cost reduction    Step norm     Optimality   \n",
      "       0              1         4.7199e+00                                    1.12e+00    \n",
      "       1              2         1.3711e-01      4.58e+00       6.56e+00       1.29e-01    \n",
      "       2              3         4.2874e-04      1.37e-01       1.67e+00       6.98e-03    \n",
      "       3              4         6.1503e-09      4.29e-04       1.05e-01       2.90e-05    \n",
      "       4              5         3.1923e-25      6.15e-09       4.03e-04       7.07e-12    \n",
      "`gtol` termination condition is satisfied.\n",
      "Function evaluations 5, initial cost 4.7199e+00, final cost 3.1923e-25, first-order optimality 7.07e-12.\n",
      "Solving barriers...\n",
      "   Iteration     Total nfev        Cost      Cost reduction    Step norm     Optimality   \n",
      "       0              1         2.3908e+00                                    1.25e+01    \n",
      "       1              2         4.6501e-02      2.34e+00       5.53e+00       1.25e+00    \n",
      "       2              3         2.6218e-04      4.62e-02       1.06e+00       2.13e-02    \n",
      "       3              4         1.9957e-06      2.60e-04       8.38e-02       7.62e-03    \n",
      "       4              5         7.5822e-13      2.00e-06       7.45e-03       4.69e-06    \n",
      "       5              6         1.4389e-26      7.58e-13       4.60e-06       6.45e-13    \n",
      "`gtol` termination condition is satisfied.\n",
      "Function evaluations 6, initial cost 2.3908e+00, final cost 1.4389e-26, first-order optimality 6.45e-13.\n"
     ]
    }
   ],
   "source": [
    "s_0 = np.array([34, 15, 25])\n",
    "zero_collar = MultiAssetsAsianZeroCostCollar(\n",
    "    mv_hes, spots=s_0, \n",
    "    put_Ks=np.array([32, 14, 23.5]), T=2,\n",
    "    n_paths=5000, n_nodes_per_year=252,\n",
    "    pre_computed_paths=paths_c\n",
    ")\n",
    "best_of_call = MultiAssetsBestOfAsianCall(\n",
    "    mv_hes, zero_collar, \n",
    "    T_entry=1, T_mature=2, \n",
    "    S_init=s_0, required_return=0.045\n",
    ")\n",
    "worst_of_KIput = MultiAssetsWorstOfDiscreteKIEuropeanPut(\n",
    "    mv_hes, zero_collar, best_of_call, s_0, \n",
    "    T_entry=1, T_mature=2, Ds=np.array([5]*3), n_paths=5000,\n",
    "    pre_computed_paths=paths_c\n",
    ")\n",
    "\n",
    "structure = {\n",
    "    'Zero Collar': zero_collar,\n",
    "    'Best of Call': best_of_call,\n",
    "    'worst of KI Put': worst_of_KIput\n",
    "}"
   ]
  },
  {
   "cell_type": "code",
   "execution_count": 15,
   "metadata": {},
   "outputs": [
    {
     "name": "stdout",
     "output_type": "stream",
     "text": [
      "Zero Cost Collar:\n",
      "+ MultiAssetsAsianPut: K=[32.000, 14.000, 23.500], T=2\n",
      "- MultiAssetsAsianCall: K=[40.000, 17.924, 30.046], T=2 \n",
      "\n",
      "MultiAssetsBestOfAsianCall: K=[40.000, 17.924, 30.046], R_required=0.045, T_entry=1, T_mature=2 \n",
      "\n",
      "MultiAssetsWorstOfDiscreteKIEuropeanPut: K=[28.071, 11.663, 19.120], H=[23.071, 6.663, 14.120], T_entry=1, T_mature=2 \n",
      "\n"
     ]
    }
   ],
   "source": [
    "for k, obj in structure.items():\n",
    "    print(repr(obj), '\\n')"
   ]
  },
  {
   "cell_type": "markdown",
   "metadata": {},
   "source": [
    "## Sanity Check: Pricing of the structure (price $\\approx$ 0)"
   ]
  },
  {
   "cell_type": "code",
   "execution_count": 16,
   "metadata": {},
   "outputs": [
    {
     "name": "stdout",
     "output_type": "stream",
     "text": [
      "------------------------------------------\n",
      "Zero Cost Collar:\n",
      "+ MultiAssetsAsianPut: K=[32.000, 14.000, 23.500], T=2\n",
      "- MultiAssetsAsianCall: K=[40.000, 17.924, 30.046], T=2\n",
      "Simulating paths...\n",
      "Simulating paths...\n",
      "Price: [2.02738673e-15 2.41734372e-15 3.92781827e-15]\n",
      "(SE) [0.21442489 0.13476363 0.23934694]\n",
      "Delta [[-0.65145169  0.          0.        ]\n",
      " [ 0.         -0.69507002  0.        ]\n",
      " [ 0.          0.         -0.72045429]]\n",
      "------------------------------------------\n",
      "MultiAssetsBestOfAsianCall: K=[40.000, 17.924, 30.046], R_required=0.045, T_entry=1, T_mature=2\n",
      "Simulating paths...\n",
      "Simulating paths...\n",
      "Price: 3.864674806322516\n",
      "(SE) 0.20116967767273844\n",
      "Delta [[0.21286972 0.24397859 0.29126505]]\n",
      "------------------------------------------\n",
      "MultiAssetsWorstOfDiscreteKIEuropeanPut: K=[28.071, 11.663, 19.120], H=[23.071, 6.663, 14.120], T_entry=1, T_mature=2\n",
      "Simulating paths...\n",
      "Simulating paths...\n",
      "Price: 3.864674806322516\n",
      "(SE) 0.16206886689421005\n",
      "Delta [[-0.0701974  -0.06423913 -0.08092108]]\n",
      "------------------------------------------\n"
     ]
    }
   ],
   "source": [
    "print('------------------------------------------')\n",
    "for k, obj in structure.items():\n",
    "    print(repr(obj))\n",
    "    px, se = obj.mc_price(spots=s_0, pre_computed_paths=paths_c)\n",
    "    delta = obj.mc_delta(spots=s_0, dS=1e-4, pre_computed_paths=paths)\n",
    "    print('Price:', px)\n",
    "    print('(SE)', se)\n",
    "    print('Delta', delta)\n",
    "    print('------------------------------------------')\n",
    "\n"
   ]
  },
  {
   "cell_type": "markdown",
   "metadata": {},
   "source": [
    "## Optimized Structure (Pre computed paths)"
   ]
  },
  {
   "cell_type": "code",
   "execution_count": 27,
   "metadata": {
    "collapsed": true
   },
   "outputs": [],
   "source": [
    "s_0 = np.array([34, 15, 25])\n",
    "adv = data.adv.unique() / 1e6\n",
    "markup = (np.array([0.1, 0.1, 0.1]), 0.0)\n",
    "\n",
    "def metric(K, D, x, R, p):\n",
    "    loss, structure, pct_adv, cap, deltas, slip = structure_constructor(\n",
    "        model=mv_hes, x=x, put_Ks=K, Ds=D, R_req=R, adv=adv, \n",
    "        adv_thres=0.3, S0=s_0, cap_required=100, alpha=0.1, pre_computed_paths=paths, \n",
    "        premiums=p)\n",
    "    delta_collar, delta_boc, delta_KI = deltas\n",
    "    delta_tot = delta_collar-delta_boc+delta_KI\n",
    "    # print(structure)\n",
    "    print('Put Strikes:', K)\n",
    "    print('Shares:', x)\n",
    "    print('Loss:', loss)\n",
    "    print('|X/ADV|:', np.abs(pct_adv))\n",
    "    print('Price Slippage', slip)\n",
    "    print('Pct Price Slippage (BPs)', (slip/s_0)*1e4)\n",
    "    print('Dollar Slippage', slip.dot(delta_tot.reshape(3,))[0])\n",
    "    print('Dollar Premium', -markup[0].dot(x)+markup[1])\n",
    "    print('Locked-in Capital:', cap)\n",
    "    print('Deltas/Sell x Collar:', delta_collar)\n",
    "    print('Deltas/Sell 1 Best of Call:', -delta_boc)\n",
    "    print('Deltas/Buy 1 KI:', delta_KI)\n",
    "    print('Deltas/Entire Structure:', delta_tot)\n",
    "    return structure"
   ]
  },
  {
   "cell_type": "code",
   "execution_count": 67,
   "metadata": {},
   "outputs": [
    {
     "name": "stdout",
     "output_type": "stream",
     "text": [
      "Put Strikes: [31.5 10.  22. ]\n",
      "Shares: [-0.4  -5.7  -1.83]\n",
      "Loss: 0.5314326367851241\n",
      "|X/ADV|: [[0.60945655 0.60645741 0.60453432]]\n",
      "Price Slippage [[1.26877613 0.41712386 0.79880334]]\n",
      "Pct Price Slippage (BPs) [[373.16945058 278.08257103 319.52133546]]\n",
      "Dollar Slippage 0.7093976947935383\n",
      "Dollar Premium 0.8\n",
      "Locked-in Capital: 100.40448001389713\n",
      "Deltas/Sell x Collar: [[0.24635412 0.97006109 1.10538161]]\n",
      "Deltas/Sell 1 Best of Call: [[-0.07738364 -0.46602316 -0.47573709]]\n",
      "Deltas/Buy 1 KI: [[-0.03671841 -0.13409891 -0.144808  ]]\n",
      "Deltas/Entire Structure: [[0.13225207 0.36993902 0.48483652]]\n",
      "----------------------------------------------\n",
      "Zero Cost Collar:\n",
      "+ MultiAssetsAsianPut: K=[31.500, 10.000, 22.000], T=2\n",
      "- MultiAssetsAsianCall: K=[40.604, 25.757, 31.803], T=2\n",
      "MultiAssetsBestOfAsianCall: K=[40.604, 25.757, 31.803], R_required=0.05, T_entry=1, T_mature=2\n",
      "MultiAssetsWorstOfDiscreteKIEuropeanPut: K=[30.585, 6.498, 17.788], H=[28.585, 4.998, 15.988], T_entry=1, T_mature=2\n"
     ]
    }
   ],
   "source": [
    "Kput = np.array([31.5, 10.0, 22])\n",
    "D = np.array([2, 1.5, 1.8])\n",
    "x = np.array([-0.4, -5.7, -1.83])\n",
    "R = 0.05\n",
    "p = markup = (np.array([0.0, 0.0, 0.0]), 0.8)\n",
    "\n",
    "\n",
    "structure = metric(Kput, D, x, R, p)\n",
    "print('----------------------------------------------')\n",
    "for name, obj in structure.items():\n",
    "    print(repr(obj))"
   ]
  },
  {
   "cell_type": "code",
   "execution_count": 16,
   "metadata": {},
   "outputs": [
    {
     "name": "stdout",
     "output_type": "stream",
     "text": [
      "Put Strikes: [29.5 12.  21. ]\n",
      "Shares: [-0.7768607  -2.18380196 -2.87116258]\n",
      "Loss: 0.7710786630978899\n",
      "|X/ADV|: [[0.82922819 0.58325826 0.78398821]]\n",
      "Price Slippage [[1.65923021 0.40102483 1.00702243]]\n",
      "Pct Price Slippage (BPs) [[488.00888492 267.34988383 402.80897068]]\n",
      "Dollar Slippage 1.0744196525742105\n",
      "Dollar Premium 1.0\n",
      "Locked-in Capital: 100.0\n",
      "Deltas/Sell x Collar: [[0.3545315  0.86636824 1.50144199]]\n",
      "Deltas/Sell 1 Best of Call: [[-0.11721434 -0.38241343 -0.68476085]]\n",
      "Deltas/Buy 1 KI: [[-0.05737464 -0.12816727 -0.18792259]]\n",
      "Deltas/Entire Structure: [[0.17994252 0.35578754 0.62875855]]\n",
      "----------------------------------------------\n",
      "Zero Cost Collar:\n",
      "+ MultiAssetsAsianPut: K=[29.500, 12.000, 21.000], T=2\n",
      "- MultiAssetsAsianCall: K=[43.233, 21.459, 33.394], T=2\n",
      "MultiAssetsBestOfAsianCall: K=[43.233, 21.459, 33.394], R_required=0.05, T_entry=1, T_mature=2\n",
      "MultiAssetsWorstOfDiscreteKIEuropeanPut: K=[28.267, 10.127, 15.974], H=[26.467, 8.127, 14.174], T_entry=1, T_mature=2\n"
     ]
    }
   ],
   "source": [
    "markup = (np.array([0.0, 0.0, 0.0]), 1.0)\n",
    "structure = metric(np.array([29.5, 12, 21]), np.array([1.8, 2, 1.8]), R=0.05)\n",
    "print('----------------------------------------------')\n",
    "for name, obj in structure.items():\n",
    "    print(repr(obj))"
   ]
  },
  {
   "cell_type": "code",
   "execution_count": 41,
   "metadata": {},
   "outputs": [
    {
     "data": {
      "text/plain": [
       "array([397.04407059, 221.71545333, 206.042364  ])"
      ]
     },
     "execution_count": 41,
     "metadata": {},
     "output_type": "execute_result"
    }
   ],
   "source": [
    "1e4*np.array([1.34994984,0.33257318,0.51510591])/np.array([34, 15, 25])"
   ]
  },
  {
   "cell_type": "code",
   "execution_count": 68,
   "metadata": {},
   "outputs": [
    {
     "name": "stdout",
     "output_type": "stream",
     "text": [
      "------------------------------------------\n",
      "Zero Cost Collar:\n",
      "+ MultiAssetsAsianPut: K=[31.500, 10.000, 22.000], T=2\n",
      "- MultiAssetsAsianCall: K=[40.604, 25.757, 31.803], T=2\n",
      "Price: [ 7.29911173e-16 -4.21280182e-14 -4.65935291e-15]\n",
      "(SE) [0.20164841 0.04922916 0.2125538 ]\n",
      "Delta [[ 0.61588531 -0.         -0.        ]\n",
      " [-0.          0.17018616 -0.        ]\n",
      " [-0.         -0.          0.60403367]]\n",
      "------------------------------------------\n",
      "MultiAssetsBestOfAsianCall: K=[40.604, 25.757, 31.803], R_required=0.05, T_entry=1, T_mature=2\n",
      "Price: -4.102185329082234\n",
      "(SE) 0.35030706351845187\n",
      "Delta [[-0.07738364 -0.46602316 -0.47573709]]\n",
      "------------------------------------------\n",
      "MultiAssetsWorstOfDiscreteKIEuropeanPut: K=[30.585, 6.498, 17.788], H=[28.585, 4.998, 15.988], T_entry=1, T_mature=2\n",
      "Price: 4.902185329079698\n",
      "(SE) 0.25403947530461474\n",
      "Delta [[-0.03671841 -0.13409891 -0.144808  ]]\n",
      "------------------------------------------\n"
     ]
    }
   ],
   "source": [
    "SSc, SSf, SSb, XXc, XXf, XXb, VV = paths\n",
    "paths_c = (SSc, XXc, VV)\n",
    "direction = [-1, -1, 1]\n",
    "print('------------------------------------------')\n",
    "for i, (k, obj) in enumerate(structure.items()):\n",
    "    print(repr(obj))\n",
    "    px, se = obj.mc_price(spots=s_0, pre_computed_paths=paths_c)\n",
    "    delta = obj.mc_delta(spots=s_0, dS=1e-4, pre_computed_paths=paths)\n",
    "    print('Price:', px*direction[i])\n",
    "    print('(SE)', se)\n",
    "    print('Delta', delta*direction[i])\n",
    "    print('------------------------------------------')"
   ]
  },
  {
   "cell_type": "code",
   "execution_count": null,
   "metadata": {
    "collapsed": true
   },
   "outputs": [],
   "source": [
    "structure = metric(np.array([25, 10, 20.5]), np.array([3, 3, 2]), R=0.045)\n",
    "print('----------------------------------------------')\n",
    "for name, obj in structure.items():\n",
    "    print(repr(obj))"
   ]
  },
  {
   "cell_type": "code",
   "execution_count": null,
   "metadata": {
    "collapsed": true
   },
   "outputs": [],
   "source": [
    "structure = metric(np.array([32, 14.0, 23.5]), np.array([5, 5, 5]), R=0.045)\n",
    "print('----------------------------------------------')\n",
    "for name, obj in structure.items():\n",
    "    print(repr(obj))"
   ]
  },
  {
   "cell_type": "code",
   "execution_count": null,
   "metadata": {
    "collapsed": true
   },
   "outputs": [],
   "source": [
    "def err(params, alpha):\n",
    "    K, D, R = params[:3], params[3:], 0.1\n",
    "    x = -(100/adv.dot(K))*adv*np.exp(0.045*2)\n",
    "    loss, structure, pct_adv, cap, deltas = structure_constructor(\n",
    "        mv_hes, x, K, D, R, adv, 0.3, s_0, 100, alpha, paths)\n",
    "    # print(structure)\n",
    "    print(K, x, R)\n",
    "    print('Loss:', loss)\n",
    "    print('X/ADV:', pct_adv)\n",
    "    print('Locked-in Capital:', cap)\n",
    "    return np.sqrt(loss)"
   ]
  }
 ],
 "metadata": {
  "kernelspec": {
   "display_name": "Python 3",
   "language": "python",
   "name": "python3"
  },
  "language_info": {
   "codemirror_mode": {
    "name": "ipython",
    "version": 3
   },
   "file_extension": ".py",
   "mimetype": "text/x-python",
   "name": "python",
   "nbconvert_exporter": "python",
   "pygments_lexer": "ipython3",
   "version": "3.6.4"
  }
 },
 "nbformat": 4,
 "nbformat_minor": 2
}
